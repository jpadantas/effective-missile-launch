{
 "cells": [
  {
   "cell_type": "markdown",
   "metadata": {},
   "source": [
    "# Naive Bayes"
   ]
  },
  {
   "cell_type": "markdown",
   "metadata": {},
   "source": [
    "## Libraries"
   ]
  },
  {
   "cell_type": "code",
   "execution_count": 25,
   "metadata": {},
   "outputs": [],
   "source": [
    "import pandas as pd\n",
    "import numpy as np\n",
    "from sklearn.metrics import accuracy_score, precision_score, recall_score, f1_score, classification_report, confusion_matrix\n",
    "from sklearn.model_selection import GridSearchCV\n",
    "from sklearn.preprocessing import StandardScaler, MinMaxScaler\n",
    "from sklearn.neural_network import MLPClassifier\n",
    "from sklearn.naive_bayes import GaussianNB\n",
    "from collections import Counter\n",
    "from imblearn.over_sampling import SMOTE, ADASYN, SMOTENC\n",
    "from imblearn.combine import SMOTETomek, SMOTEENN \n",
    "import matplotlib.pyplot as plt\n",
    "from numpy import where\n",
    "import time"
   ]
  },
  {
   "cell_type": "markdown",
   "metadata": {},
   "source": [
    "## Read the data from csv"
   ]
  },
  {
   "cell_type": "code",
   "execution_count": 26,
   "metadata": {},
   "outputs": [],
   "source": [
    "df_train = pd.read_csv('../data/df_train.csv')\n",
    "df_test = pd.read_csv('../data/df_test.csv')\n",
    "\n",
    "X_train = df_train.drop('kill', axis=1)\n",
    "y_train = df_train['kill']\n",
    "X_test = df_test.drop(['kill'], axis=1)\n",
    "y_test = df_test['kill']\n",
    "\n",
    "X_train = X_train.values\n",
    "y_train = y_train.values\n",
    "X_test = X_test.values\n",
    "y_test = y_test.values"
   ]
  },
  {
   "cell_type": "code",
   "execution_count": 27,
   "metadata": {},
   "outputs": [],
   "source": [
    "scaler = StandardScaler()\n",
    "#scaler = MinMaxScaler()\n",
    "\n",
    "scaler.fit(X_train)\n",
    "\n",
    "X_train = scaler.transform(X_train)\n",
    "X_test = scaler.transform(X_test)"
   ]
  },
  {
   "cell_type": "markdown",
   "metadata": {},
   "source": [
    "### Training and fitting a logistic regression model on the training set."
   ]
  },
  {
   "cell_type": "code",
   "execution_count": 28,
   "metadata": {},
   "outputs": [],
   "source": [
    "model = GaussianNB()\n",
    "model.fit(X_train, y_train)\n",
    "predictions = model.predict(X_test)"
   ]
  },
  {
   "cell_type": "code",
   "execution_count": 29,
   "metadata": {},
   "outputs": [],
   "source": [
    "def fit_and_print(model, X_train, y_train):\n",
    "    model.fit(X_train, y_train)  \n",
    "    y_pred = model.predict(X_test)\n",
    "    print(\"Confusion Matrix: \\n\", confusion_matrix(y_test, y_pred))  \n",
    "    print(\"Classification Report: \\n\", classification_report(y_test, y_pred))  \n",
    "    print(\"Accuracy: \", round(accuracy_score(y_test, y_pred),3))\n",
    "    print(\"Precision:\", round(precision_score(y_test, y_pred),3))\n",
    "    print(\"Recall:\", round(recall_score(y_test, y_pred),3))\n",
    "    print(\"f1: \", round(f1_score(y_test, y_pred),3))"
   ]
  },
  {
   "cell_type": "code",
   "execution_count": 30,
   "metadata": {},
   "outputs": [
    {
     "name": "stdout",
     "output_type": "stream",
     "text": [
      "Confusion Matrix: \n",
      " [[20087   134]\n",
      " [ 2543   277]]\n",
      "Classification Report: \n",
      "               precision    recall  f1-score   support\n",
      "\n",
      "           0       0.89      0.99      0.94     20221\n",
      "           1       0.67      0.10      0.17      2820\n",
      "\n",
      "    accuracy                           0.88     23041\n",
      "   macro avg       0.78      0.55      0.55     23041\n",
      "weighted avg       0.86      0.88      0.84     23041\n",
      "\n",
      "Accuracy:  0.884\n",
      "Precision: 0.674\n",
      "Recall: 0.098\n",
      "f1:  0.171\n"
     ]
    }
   ],
   "source": [
    "fit_and_print(model,X_train,y_train)"
   ]
  },
  {
   "cell_type": "markdown",
   "metadata": {},
   "source": [
    "### Classification Report\n",
    "\n",
    "Scikit-learn does provide a convenience report when working on classification problems to give you a quick idea of the accuracy of a model using a number of measures.\n",
    "\n",
    "The classification_report() function displays the precision, recall, f1-score and support for each class."
   ]
  },
  {
   "cell_type": "code",
   "execution_count": 31,
   "metadata": {},
   "outputs": [
    {
     "name": "stdout",
     "output_type": "stream",
     "text": [
      "              precision    recall  f1-score   support\n",
      "\n",
      "           0       0.89      0.99      0.94     20221\n",
      "           1       0.67      0.10      0.17      2820\n",
      "\n",
      "    accuracy                           0.88     23041\n",
      "   macro avg       0.78      0.55      0.55     23041\n",
      "weighted avg       0.86      0.88      0.84     23041\n",
      "\n"
     ]
    }
   ],
   "source": [
    "print(classification_report(y_test, predictions))"
   ]
  },
  {
   "cell_type": "markdown",
   "metadata": {},
   "source": [
    "## GridSearch"
   ]
  },
  {
   "cell_type": "code",
   "execution_count": 32,
   "metadata": {},
   "outputs": [
    {
     "data": {
      "text/plain": [
       "array([1.00000000e+00, 8.11130831e-01, 6.57933225e-01, 5.33669923e-01,\n",
       "       4.32876128e-01, 3.51119173e-01, 2.84803587e-01, 2.31012970e-01,\n",
       "       1.87381742e-01, 1.51991108e-01, 1.23284674e-01, 1.00000000e-01,\n",
       "       8.11130831e-02, 6.57933225e-02, 5.33669923e-02, 4.32876128e-02,\n",
       "       3.51119173e-02, 2.84803587e-02, 2.31012970e-02, 1.87381742e-02,\n",
       "       1.51991108e-02, 1.23284674e-02, 1.00000000e-02, 8.11130831e-03,\n",
       "       6.57933225e-03, 5.33669923e-03, 4.32876128e-03, 3.51119173e-03,\n",
       "       2.84803587e-03, 2.31012970e-03, 1.87381742e-03, 1.51991108e-03,\n",
       "       1.23284674e-03, 1.00000000e-03, 8.11130831e-04, 6.57933225e-04,\n",
       "       5.33669923e-04, 4.32876128e-04, 3.51119173e-04, 2.84803587e-04,\n",
       "       2.31012970e-04, 1.87381742e-04, 1.51991108e-04, 1.23284674e-04,\n",
       "       1.00000000e-04, 8.11130831e-05, 6.57933225e-05, 5.33669923e-05,\n",
       "       4.32876128e-05, 3.51119173e-05, 2.84803587e-05, 2.31012970e-05,\n",
       "       1.87381742e-05, 1.51991108e-05, 1.23284674e-05, 1.00000000e-05,\n",
       "       8.11130831e-06, 6.57933225e-06, 5.33669923e-06, 4.32876128e-06,\n",
       "       3.51119173e-06, 2.84803587e-06, 2.31012970e-06, 1.87381742e-06,\n",
       "       1.51991108e-06, 1.23284674e-06, 1.00000000e-06, 8.11130831e-07,\n",
       "       6.57933225e-07, 5.33669923e-07, 4.32876128e-07, 3.51119173e-07,\n",
       "       2.84803587e-07, 2.31012970e-07, 1.87381742e-07, 1.51991108e-07,\n",
       "       1.23284674e-07, 1.00000000e-07, 8.11130831e-08, 6.57933225e-08,\n",
       "       5.33669923e-08, 4.32876128e-08, 3.51119173e-08, 2.84803587e-08,\n",
       "       2.31012970e-08, 1.87381742e-08, 1.51991108e-08, 1.23284674e-08,\n",
       "       1.00000000e-08, 8.11130831e-09, 6.57933225e-09, 5.33669923e-09,\n",
       "       4.32876128e-09, 3.51119173e-09, 2.84803587e-09, 2.31012970e-09,\n",
       "       1.87381742e-09, 1.51991108e-09, 1.23284674e-09, 1.00000000e-09])"
      ]
     },
     "execution_count": 32,
     "metadata": {},
     "output_type": "execute_result"
    }
   ],
   "source": [
    "np.logspace(0,-9, num=100)"
   ]
  },
  {
   "cell_type": "code",
   "execution_count": 33,
   "metadata": {},
   "outputs": [],
   "source": [
    "param_grid = {'var_smoothing': np.logspace(0,-9, num=100)}"
   ]
  },
  {
   "cell_type": "code",
   "execution_count": 34,
   "metadata": {},
   "outputs": [],
   "source": [
    "grid = GridSearchCV(GaussianNB(), param_grid, verbose=2, cv = 5, n_jobs = -1)"
   ]
  },
  {
   "cell_type": "code",
   "execution_count": 35,
   "metadata": {},
   "outputs": [
    {
     "name": "stdout",
     "output_type": "stream",
     "text": [
      "Fitting 5 folds for each of 100 candidates, totalling 500 fits\n"
     ]
    },
    {
     "data": {
      "text/plain": [
       "GridSearchCV(cv=5, estimator=GaussianNB(), n_jobs=-1,\n",
       "             param_grid={'var_smoothing': array([1.00000000e+00, 8.11130831e-01, 6.57933225e-01, 5.33669923e-01,\n",
       "       4.32876128e-01, 3.51119173e-01, 2.84803587e-01, 2.31012970e-01,\n",
       "       1.87381742e-01, 1.51991108e-01, 1.23284674e-01, 1.00000000e-01,\n",
       "       8.11130831e-02, 6.57933225e-02, 5.33669923e-02, 4.32876128e-02,\n",
       "       3.51119173e-02, 2.8480358...\n",
       "       1.23284674e-07, 1.00000000e-07, 8.11130831e-08, 6.57933225e-08,\n",
       "       5.33669923e-08, 4.32876128e-08, 3.51119173e-08, 2.84803587e-08,\n",
       "       2.31012970e-08, 1.87381742e-08, 1.51991108e-08, 1.23284674e-08,\n",
       "       1.00000000e-08, 8.11130831e-09, 6.57933225e-09, 5.33669923e-09,\n",
       "       4.32876128e-09, 3.51119173e-09, 2.84803587e-09, 2.31012970e-09,\n",
       "       1.87381742e-09, 1.51991108e-09, 1.23284674e-09, 1.00000000e-09])},\n",
       "             verbose=2)"
      ]
     },
     "execution_count": 35,
     "metadata": {},
     "output_type": "execute_result"
    }
   ],
   "source": [
    "# May take awhile!\n",
    "grid.fit(X_train,y_train)"
   ]
  },
  {
   "cell_type": "code",
   "execution_count": 36,
   "metadata": {},
   "outputs": [
    {
     "data": {
      "text/plain": [
       "{'var_smoothing': 0.0023101297000831605}"
      ]
     },
     "execution_count": 36,
     "metadata": {},
     "output_type": "execute_result"
    }
   ],
   "source": [
    "grid.best_params_"
   ]
  },
  {
   "cell_type": "code",
   "execution_count": 37,
   "metadata": {},
   "outputs": [
    {
     "data": {
      "text/plain": [
       "GaussianNB(var_smoothing=0.0023101297000831605)"
      ]
     },
     "execution_count": 37,
     "metadata": {},
     "output_type": "execute_result"
    }
   ],
   "source": [
    "best_grid = grid.best_estimator_\n",
    "best_grid"
   ]
  },
  {
   "cell_type": "code",
   "execution_count": 38,
   "metadata": {},
   "outputs": [
    {
     "data": {
      "text/plain": [
       "0.8860567533412477"
      ]
     },
     "execution_count": 38,
     "metadata": {},
     "output_type": "execute_result"
    }
   ],
   "source": [
    "grid.best_score_"
   ]
  },
  {
   "cell_type": "markdown",
   "metadata": {},
   "source": [
    "Then you can re-run predictions on this grid object just like you would with a normal model."
   ]
  },
  {
   "cell_type": "code",
   "execution_count": 39,
   "metadata": {},
   "outputs": [],
   "source": [
    "grid_predictions = grid.predict(X_test)"
   ]
  },
  {
   "cell_type": "code",
   "execution_count": 40,
   "metadata": {},
   "outputs": [
    {
     "name": "stdout",
     "output_type": "stream",
     "text": [
      "[[20089   132]\n",
      " [ 2550   270]]\n"
     ]
    }
   ],
   "source": [
    "print(confusion_matrix(y_test,grid_predictions))"
   ]
  },
  {
   "cell_type": "code",
   "execution_count": 41,
   "metadata": {},
   "outputs": [
    {
     "name": "stdout",
     "output_type": "stream",
     "text": [
      "              precision    recall  f1-score   support\n",
      "\n",
      "           0       0.89      0.99      0.94     20221\n",
      "           1       0.67      0.10      0.17      2820\n",
      "\n",
      "    accuracy                           0.88     23041\n",
      "   macro avg       0.78      0.54      0.55     23041\n",
      "weighted avg       0.86      0.88      0.84     23041\n",
      "\n"
     ]
    }
   ],
   "source": [
    "print(classification_report(y_test,grid_predictions))"
   ]
  },
  {
   "cell_type": "code",
   "execution_count": 42,
   "metadata": {},
   "outputs": [],
   "source": [
    "def fit_and_print(model, X_train, y_train):\n",
    "    model.fit(X_train, y_train)  \n",
    "    y_pred = model.predict(X_test)\n",
    "    print(\"Confusion Matrix: \\n\", confusion_matrix(y_test, y_pred))  \n",
    "    print(\"Classification Report: \\n\", classification_report(y_test, y_pred))  \n",
    "    print(\"Accuracy: \", round(accuracy_score(y_test, y_pred),3))\n",
    "    print(\"Precision:\", round(precision_score(y_test, y_pred),3))\n",
    "    print(\"Recall:\", round(recall_score(y_test, y_pred),3))\n",
    "    print(\"f1: \", round(f1_score(y_test, y_pred),3))"
   ]
  },
  {
   "cell_type": "code",
   "execution_count": 43,
   "metadata": {},
   "outputs": [
    {
     "name": "stdout",
     "output_type": "stream",
     "text": [
      "Confusion Matrix: \n",
      " [[20089   132]\n",
      " [ 2550   270]]\n",
      "Classification Report: \n",
      "               precision    recall  f1-score   support\n",
      "\n",
      "           0       0.89      0.99      0.94     20221\n",
      "           1       0.67      0.10      0.17      2820\n",
      "\n",
      "    accuracy                           0.88     23041\n",
      "   macro avg       0.78      0.54      0.55     23041\n",
      "weighted avg       0.86      0.88      0.84     23041\n",
      "\n",
      "Accuracy:  0.884\n",
      "Precision: 0.672\n",
      "Recall: 0.096\n",
      "f1:  0.168\n"
     ]
    }
   ],
   "source": [
    "fit_and_print(best_grid,X_train,y_train)"
   ]
  },
  {
   "cell_type": "code",
   "execution_count": 44,
   "metadata": {},
   "outputs": [
    {
     "name": "stdout",
     "output_type": "stream",
     "text": [
      "Inference Time: 4.193 miliseconds\n"
     ]
    }
   ],
   "source": [
    "def calculate_pred_and_inf_time(best_grid, X_test):\n",
    "    # get the start time\n",
    "    st_wall_inf = time.time()\n",
    "\n",
    "    # Generate generalization metrics\n",
    "    grid_predictions = best_grid.predict(X_test)\n",
    "\n",
    "    # get the end time\n",
    "    et_wall_inf = time.time()\n",
    "\n",
    "    # get execution time\n",
    "    wall_time_inf = et_wall_inf - st_wall_inf\n",
    "    print(f'Inference Time: {1000*wall_time_inf:.3f} miliseconds')\n",
    "\n",
    "calculate_pred_and_inf_time(best_grid, X_test)"
   ]
  },
  {
   "cell_type": "markdown",
   "metadata": {},
   "source": [
    "## Resampling"
   ]
  },
  {
   "cell_type": "markdown",
   "metadata": {},
   "source": [
    "### SMOTE"
   ]
  },
  {
   "cell_type": "code",
   "execution_count": 45,
   "metadata": {},
   "outputs": [
    {
     "name": "stdout",
     "output_type": "stream",
     "text": [
      "Counter({0: 114988, 1: 15577})\n",
      "Counter({0: 114988, 1: 114988})\n",
      "Confusion Matrix: \n",
      " [[12825  7396]\n",
      " [  873  1947]]\n",
      "Classification Report: \n",
      "               precision    recall  f1-score   support\n",
      "\n",
      "           0       0.94      0.63      0.76     20221\n",
      "           1       0.21      0.69      0.32      2820\n",
      "\n",
      "    accuracy                           0.64     23041\n",
      "   macro avg       0.57      0.66      0.54     23041\n",
      "weighted avg       0.85      0.64      0.70     23041\n",
      "\n",
      "Accuracy:  0.641\n",
      "Precision: 0.208\n",
      "Recall: 0.69\n",
      "f1:  0.32\n",
      "Inference Time: 4.999 miliseconds\n"
     ]
    }
   ],
   "source": [
    "# Oversample and plot imbalanced dataset with SMOTE\n",
    "\n",
    "# summarize class distribution\n",
    "counter = Counter(y_train)\n",
    "print(counter)\n",
    "# transform the dataset\n",
    "oversample = SMOTE(random_state=42)\n",
    "X_train_rel, y_train_rel = oversample.fit_resample(X_train, y_train)\n",
    "# summarize the new class distribution\n",
    "counter = Counter(y_train_rel)\n",
    "print(counter)\n",
    "\n",
    "fit_and_print(best_grid, X_train_rel, y_train_rel)\n",
    "\n",
    "calculate_pred_and_inf_time(best_grid, X_test)"
   ]
  },
  {
   "cell_type": "markdown",
   "metadata": {},
   "source": [
    "### ADASYN"
   ]
  },
  {
   "cell_type": "code",
   "execution_count": 46,
   "metadata": {},
   "outputs": [
    {
     "name": "stdout",
     "output_type": "stream",
     "text": [
      "Counter({0: 114988, 1: 15577})\n",
      "Counter({1: 119427, 0: 114988})\n",
      "Confusion Matrix: \n",
      " [[11735  8486]\n",
      " [  745  2075]]\n",
      "Classification Report: \n",
      "               precision    recall  f1-score   support\n",
      "\n",
      "           0       0.94      0.58      0.72     20221\n",
      "           1       0.20      0.74      0.31      2820\n",
      "\n",
      "    accuracy                           0.60     23041\n",
      "   macro avg       0.57      0.66      0.51     23041\n",
      "weighted avg       0.85      0.60      0.67     23041\n",
      "\n",
      "Accuracy:  0.599\n",
      "Precision: 0.196\n",
      "Recall: 0.736\n",
      "f1:  0.31\n",
      "Inference Time: 3.270 miliseconds\n"
     ]
    }
   ],
   "source": [
    "# Oversample and plot imbalanced dataset with ADASYN\n",
    "\n",
    "# summarize class distribution\n",
    "counter = Counter(y_train)\n",
    "print(counter)\n",
    "# transform the dataset\n",
    "oversample = ADASYN(random_state=42)\n",
    "X_train_rel, y_train_rel = oversample.fit_resample(X_train, y_train)\n",
    "# summarize the new class distribution\n",
    "counter = Counter(y_train_rel)\n",
    "print(counter)\n",
    "\n",
    "fit_and_print(best_grid, X_train_rel, y_train_rel)\n",
    "\n",
    "calculate_pred_and_inf_time(best_grid, X_test)"
   ]
  },
  {
   "cell_type": "markdown",
   "metadata": {},
   "source": [
    "### SMOTE and TL"
   ]
  },
  {
   "cell_type": "code",
   "execution_count": 47,
   "metadata": {},
   "outputs": [
    {
     "name": "stdout",
     "output_type": "stream",
     "text": [
      "Counter({0: 114988, 1: 15577})\n",
      "Counter({0: 111748, 1: 111748})\n",
      "Confusion Matrix: \n",
      " [[12822  7399]\n",
      " [  872  1948]]\n",
      "Classification Report: \n",
      "               precision    recall  f1-score   support\n",
      "\n",
      "           0       0.94      0.63      0.76     20221\n",
      "           1       0.21      0.69      0.32      2820\n",
      "\n",
      "    accuracy                           0.64     23041\n",
      "   macro avg       0.57      0.66      0.54     23041\n",
      "weighted avg       0.85      0.64      0.70     23041\n",
      "\n",
      "Accuracy:  0.641\n",
      "Precision: 0.208\n",
      "Recall: 0.691\n",
      "f1:  0.32\n",
      "Inference Time: 3.305 miliseconds\n"
     ]
    }
   ],
   "source": [
    "# Oversample and plot imbalanced dataset with SMOTE and TL\n",
    "\n",
    "# summarize class distribution\n",
    "counter = Counter(y_train)\n",
    "print(counter)\n",
    "# transform the dataset\n",
    "oversample = SMOTETomek(random_state=42)\n",
    "X_train_rel, y_train_rel = oversample.fit_resample(X_train, y_train)\n",
    "# summarize the new class distribution\n",
    "counter = Counter(y_train_rel)\n",
    "print(counter)\n",
    "\n",
    "fit_and_print(best_grid, X_train_rel, y_train_rel)\n",
    "\n",
    "calculate_pred_and_inf_time(best_grid, X_test)"
   ]
  },
  {
   "cell_type": "markdown",
   "metadata": {},
   "source": [
    "### SMOTE and ENN"
   ]
  },
  {
   "cell_type": "code",
   "execution_count": 48,
   "metadata": {},
   "outputs": [
    {
     "name": "stdout",
     "output_type": "stream",
     "text": [
      "Counter({0: 114988, 1: 15577})\n",
      "Counter({1: 96382, 0: 81992})\n",
      "Confusion Matrix: \n",
      " [[11504  8717]\n",
      " [  726  2094]]\n",
      "Classification Report: \n",
      "               precision    recall  f1-score   support\n",
      "\n",
      "           0       0.94      0.57      0.71     20221\n",
      "           1       0.19      0.74      0.31      2820\n",
      "\n",
      "    accuracy                           0.59     23041\n",
      "   macro avg       0.57      0.66      0.51     23041\n",
      "weighted avg       0.85      0.59      0.66     23041\n",
      "\n",
      "Accuracy:  0.59\n",
      "Precision: 0.194\n",
      "Recall: 0.743\n",
      "f1:  0.307\n",
      "Inference Time: 3.218 miliseconds\n",
      "[CV] END ..................var_smoothing=0.23101297000831597; total time=   1.0s\n",
      "[CV] END .................................var_smoothing=0.01; total time=   0.5s\n",
      "[CV] END ................var_smoothing=0.0015199110829529332; total time=   0.7s\n",
      "[CV] END ................var_smoothing=0.0003511191734215131; total time=   0.6s\n",
      "[CV] END ................var_smoothing=6.579332246575683e-05; total time=   0.5s\n",
      "[CV] END ...............var_smoothing=1.5199110829529332e-05; total time=   0.2s\n",
      "[CV] END ................var_smoothing=2.848035868435799e-06; total time=   0.2s\n",
      "[CV] END ................var_smoothing=5.336699231206313e-07; total time=   0.2s\n",
      "[CV] END ................var_smoothing=8.111308307896873e-08; total time=   0.2s\n",
      "[CV] END ................var_smoothing=1.519911082952933e-08; total time=   0.2s\n",
      "[CV] END ..................var_smoothing=0.43287612810830584; total time=   1.2s\n",
      "[CV] END ..................var_smoothing=0.03511191734215131; total time=   0.8s\n",
      "[CV] END ..................var_smoothing=0.01873817422860384; total time=   1.2s\n",
      "[CV] END ................var_smoothing=0.0023101297000831605; total time=   0.8s\n",
      "[CV] END ................var_smoothing=0.0004328761281083057; total time=   0.6s\n",
      "[CV] END ................var_smoothing=8.111308307896872e-05; total time=   0.5s\n",
      "[CV] END ...............var_smoothing=1.5199110829529332e-05; total time=   0.2s\n",
      "[CV] END ................var_smoothing=2.848035868435799e-06; total time=   0.2s\n",
      "[CV] END ................var_smoothing=5.336699231206313e-07; total time=   0.1s\n",
      "[CV] END ................................var_smoothing=1e-07; total time=   0.1s\n",
      "[CV] END ................var_smoothing=2.310129700083158e-08; total time=   0.1s\n",
      "[CV] END ................var_smoothing=4.328761281083061e-09; total time=   0.2s\n",
      "[CV] END ..................var_smoothing=0.23101297000831597; total time=   0.9s\n",
      "[CV] END ................var_smoothing=0.0023101297000831605; total time=   0.8s\n",
      "[CV] END ................var_smoothing=0.0004328761281083057; total time=   0.7s\n",
      "[CV] END ................var_smoothing=8.111308307896872e-05; total time=   0.5s\n",
      "[CV] END ...............var_smoothing=1.5199110829529332e-05; total time=   0.1s\n",
      "[CV] END ...............var_smoothing=1.2328467394420658e-05; total time=   0.2s\n",
      "[CV] END ................var_smoothing=6.579332246575682e-07; total time=   0.1s\n",
      "[CV] END ................var_smoothing=1.232846739442066e-07; total time=   0.1s\n",
      "[CV] END ................var_smoothing=2.848035868435799e-08; total time=   0.2s\n",
      "[CV] END ................var_smoothing=4.328761281083061e-09; total time=   0.2s\n",
      "[CV] END ....................var_smoothing=0.533669923120631; total time=   1.2s\n",
      "[CV] END ..................var_smoothing=0.15199110829529336; total time=   1.2s\n",
      "[CV] END ...................var_smoothing=0.0657933224657568; total time=   0.6s\n",
      "[CV] END ..................var_smoothing=0.02848035868435802; total time=   0.7s\n",
      "[CV] END .................var_smoothing=0.006579332246575682; total time=   0.7s\n",
      "[CV] END ................var_smoothing=0.0012328467394420659; total time=   0.9s\n",
      "[CV] END ...............................var_smoothing=0.0001; total time=   0.5s\n",
      "[CV] END ................var_smoothing=1.873817422860383e-05; total time=   0.2s\n",
      "[CV] END ................var_smoothing=2.848035868435799e-06; total time=   0.1s\n",
      "[CV] END ................var_smoothing=6.579332246575682e-07; total time=   0.1s\n",
      "[CV] END ................var_smoothing=1.232846739442066e-07; total time=   0.3s\n",
      "[CV] END ................var_smoothing=2.310129700083158e-08; total time=   0.2s\n",
      "[CV] END ................var_smoothing=4.328761281083061e-09; total time=   0.1s\n",
      "[CV] END ....................var_smoothing=0.657933224657568; total time=   1.1s\n",
      "[CV] END ..................var_smoothing=0.15199110829529336; total time=   1.0s\n",
      "[CV] END ...................var_smoothing=0.0533669923120631; total time=   0.7s\n",
      "[CV] END ..................var_smoothing=0.01873817422860384; total time=   1.2s\n",
      "[CV] END ................var_smoothing=0.0023101297000831605; total time=   0.8s\n",
      "[CV] END ................var_smoothing=0.0004328761281083057; total time=   0.6s\n",
      "[CV] END ................var_smoothing=8.111308307896872e-05; total time=   0.5s\n",
      "[CV] END ...............var_smoothing=3.5111917342151275e-06; total time=   0.2s\n",
      "[CV] END ................var_smoothing=5.336699231206313e-07; total time=   0.1s\n",
      "[CV] END ................var_smoothing=1.232846739442066e-07; total time=   0.2s\n",
      "[CV] END ................var_smoothing=1.873817422860383e-08; total time=   0.1s\n",
      "[CV] END ................var_smoothing=4.328761281083061e-09; total time=   0.1s\n",
      "[CV] END ...................var_smoothing=0.8111308307896871; total time=   1.3s\n",
      "[CV] END ..................var_smoothing=0.12328467394420659; total time=   0.9s\n",
      "[CV] END ...................var_smoothing=0.0533669923120631; total time=   0.6s\n",
      "[CV] END ..................var_smoothing=0.02310129700083159; total time=   0.7s\n",
      "[CV] END .................var_smoothing=0.005336699231206307; total time=   0.6s\n",
      "[CV] END ................................var_smoothing=0.001; total time=   1.1s\n",
      "[CV] END ................var_smoothing=0.0001519911082952933; total time=   0.7s\n",
      "[CV] END ................var_smoothing=2.310129700083158e-05; total time=   0.3s\n",
      "[CV] END ...............var_smoothing=3.5111917342151275e-06; total time=   0.2s\n",
      "[CV] END ................var_smoothing=6.579332246575682e-07; total time=   0.2s\n",
      "[CV] END ................var_smoothing=1.232846739442066e-07; total time=   0.1s\n",
      "[CV] END ................var_smoothing=2.310129700083158e-08; total time=   0.2s\n",
      "[CV] END ................var_smoothing=4.328761281083061e-09; total time=   0.2s\n",
      "[CV] END ....................var_smoothing=0.657933224657568; total time=   1.0s\n",
      "[CV] END ..................var_smoothing=0.02310129700083159; total time=   0.8s\n",
      "[CV] END .................var_smoothing=0.006579332246575682; total time=   0.7s\n",
      "[CV] END ................................var_smoothing=0.001; total time=   0.8s\n",
      "[CV] END ................var_smoothing=0.0002310129700083158; total time=   0.6s\n",
      "[CV] END ................var_smoothing=3.511191734215127e-05; total time=   0.4s\n",
      "[CV] END ................var_smoothing=1.873817422860383e-05; total time=   0.1s\n",
      "[CV] END ...............var_smoothing=3.5111917342151275e-06; total time=   0.2s\n",
      "[CV] END ................var_smoothing=2.310129700083158e-06; total time=   0.1s\n",
      "[CV] END ................var_smoothing=5.336699231206313e-07; total time=   0.1s\n",
      "[CV] END ................................var_smoothing=1e-07; total time=   0.2s\n",
      "[CV] END ................var_smoothing=1.873817422860383e-08; total time=   0.2s\n",
      "[CV] END ...............var_smoothing=3.5111917342151273e-09; total time=   0.2s\n",
      "[CV] END ...................var_smoothing=0.3511191734215131; total time=   0.9s\n",
      "[CV] END ..................var_smoothing=0.04328761281083057; total time=   0.9s\n",
      "[CV] END .................var_smoothing=0.012328467394420659; total time=   0.7s\n",
      "[CV] END ................var_smoothing=0.0023101297000831605; total time=   0.9s\n",
      "[CV] END ................var_smoothing=0.0004328761281083057; total time=   0.5s\n",
      "[CV] END ................var_smoothing=8.111308307896872e-05; total time=   0.5s\n",
      "[CV] END ...............var_smoothing=1.5199110829529332e-05; total time=   0.3s\n",
      "[CV] END ................var_smoothing=2.848035868435799e-06; total time=   0.3s\n",
      "[CV] END ...............var_smoothing=4.3287612810830526e-07; total time=   0.1s\n",
      "[CV] END ................................var_smoothing=1e-07; total time=   0.3s\n",
      "[CV] END ................var_smoothing=1.519911082952933e-08; total time=   0.2s\n",
      "[CV] END ...............var_smoothing=3.5111917342151273e-09; total time=   0.1s\n",
      "[CV] END ..................................var_smoothing=1.0; total time=   1.3s\n",
      "[CV] END ..................var_smoothing=0.04328761281083057; total time=   0.9s\n",
      "[CV] END ..................var_smoothing=0.02848035868435802; total time=   0.9s\n",
      "[CV] END .................var_smoothing=0.012328467394420659; total time=   0.7s\n",
      "[CV] END .................var_smoothing=0.002848035868435802; total time=   0.8s\n",
      "[CV] END ................var_smoothing=0.0005336699231206307; total time=   0.7s\n",
      "[CV] END ................var_smoothing=0.0002310129700083158; total time=   0.3s\n",
      "[CV] END ................var_smoothing=6.579332246575683e-05; total time=   0.5s\n",
      "[CV] END ................................var_smoothing=1e-05; total time=   0.2s\n",
      "[CV] END ................var_smoothing=2.310129700083158e-06; total time=   0.1s\n",
      "[CV] END ...............var_smoothing=4.3287612810830526e-07; total time=   0.1s\n",
      "[CV] END ................var_smoothing=8.111308307896873e-08; total time=   0.2s\n",
      "[CV] END ................var_smoothing=1.873817422860383e-08; total time=   0.1s\n",
      "[CV] END ...............var_smoothing=3.5111917342151273e-09; total time=   0.2s\n",
      "[CV] END ....................var_smoothing=0.657933224657568; total time=   1.3s\n",
      "[CV] END ..................var_smoothing=0.04328761281083057; total time=   0.9s\n",
      "[CV] END .................................var_smoothing=0.01; total time=   0.7s\n",
      "[CV] END .................var_smoothing=0.001873817422860383; total time=   0.8s\n",
      "[CV] END ................var_smoothing=0.0003511191734215131; total time=   0.8s\n",
      "[CV] END ...............var_smoothing=5.3366992312063123e-05; total time=   0.4s\n",
      "[CV] END ...............var_smoothing=1.2328467394420658e-05; total time=   0.1s\n",
      "[CV] END ................var_smoothing=2.310129700083158e-06; total time=   0.2s\n",
      "[CV] END ................var_smoothing=5.336699231206313e-07; total time=   0.3s\n",
      "[CV] END ................var_smoothing=8.111308307896873e-08; total time=   0.2s\n",
      "[CV] END ................var_smoothing=1.519911082952933e-08; total time=   0.2s\n",
      "[CV] END ................var_smoothing=2.848035868435805e-09; total time=   0.1s\n",
      "[CV] END ..................................var_smoothing=1.0; total time=   1.3s\n",
      "[CV] END ..................var_smoothing=0.15199110829529336; total time=   0.9s\n",
      "[CV] END ..................var_smoothing=0.08111308307896872; total time=   1.0s\n",
      "[CV] END ..................var_smoothing=0.02848035868435802; total time=   0.9s\n",
      "[CV] END .................var_smoothing=0.006579332246575682; total time=   0.6s\n",
      "[CV] END ................var_smoothing=0.0012328467394420659; total time=   0.7s\n",
      "[CV] END ................var_smoothing=0.0002848035868435802; total time=   0.7s\n",
      "[CV] END ...............var_smoothing=5.3366992312063123e-05; total time=   0.4s\n",
      "[CV] END ................................var_smoothing=1e-05; total time=   0.2s\n",
      "[CV] END ................var_smoothing=1.873817422860383e-06; total time=   0.2s\n",
      "[CV] END ...............var_smoothing=3.5111917342151277e-07; total time=   0.1s\n",
      "[CV] END ................var_smoothing=6.579332246575682e-08; total time=   0.3s\n",
      "[CV] END ................var_smoothing=1.519911082952933e-08; total time=   0.2s\n",
      "[CV] END ................var_smoothing=2.848035868435805e-09; total time=   0.1s\n",
      "[CV] END ....................var_smoothing=0.533669923120631; total time=   1.0s\n",
      "[CV] END ..................var_smoothing=0.08111308307896872; total time=   0.9s\n",
      "[CV] END ..................var_smoothing=0.02310129700083159; total time=   0.6s\n",
      "[CV] END .................var_smoothing=0.004328761281083057; total time=   0.5s\n",
      "[CV] END ................................var_smoothing=0.001; total time=   1.2s\n",
      "[CV] END ...............................var_smoothing=0.0001; total time=   0.5s\n",
      "[CV] END ................var_smoothing=1.873817422860383e-05; total time=   0.1s\n",
      "[CV] END ................var_smoothing=1.519911082952933e-06; total time=   0.2s\n",
      "[CV] END ................var_smoothing=2.848035868435799e-07; total time=   0.2s\n",
      "[CV] END ................var_smoothing=5.336699231206302e-08; total time=   0.2s\n",
      "[CV] END ...............var_smoothing=3.5111917342151273e-09; total time=   0.1s\n",
      "[CV] END ................var_smoothing=2.848035868435805e-09; total time=   0.1s\n",
      "[CV] END ...................var_smoothing=0.8111308307896871; total time=   1.4s\n",
      "[CV] END ..................var_smoothing=0.12328467394420659; total time=   0.9s\n",
      "[CV] END ..................var_smoothing=0.03511191734215131; total time=   0.8s\n",
      "[CV] END .................var_smoothing=0.008111308307896872; total time=   0.5s\n",
      "[CV] END ................var_smoothing=0.0015199110829529332; total time=   1.0s\n",
      "[CV] END ................var_smoothing=0.0002848035868435802; total time=   0.7s\n",
      "[CV] END ................var_smoothing=4.328761281083062e-05; total time=   0.5s\n",
      "[CV] END ................var_smoothing=8.111308307896873e-06; total time=   0.2s\n",
      "[CV] END ................var_smoothing=1.232846739442066e-06; total time=   0.1s\n",
      "[CV] END ................var_smoothing=2.848035868435799e-07; total time=   0.3s\n",
      "[CV] END ...............var_smoothing=4.3287612810830526e-08; total time=   0.2s\n",
      "[CV] END ................var_smoothing=2.310129700083158e-09; total time=   0.1s\n",
      "[CV] END ...................var_smoothing=0.8111308307896871; total time=   1.1s\n",
      "[CV] END ..................var_smoothing=0.12328467394420659; total time=   0.9s\n",
      "[CV] END ...................var_smoothing=0.0657933224657568; total time=   0.8s\n",
      "[CV] END ..................var_smoothing=0.02310129700083159; total time=   0.6s\n",
      "[CV] END .................var_smoothing=0.005336699231206307; total time=   0.6s\n",
      "[CV] END ................var_smoothing=0.0012328467394420659; total time=   1.0s\n",
      "[CV] END ................var_smoothing=0.0001873817422860383; total time=   0.4s\n",
      "[CV] END ...............var_smoothing=5.3366992312063123e-05; total time=   0.5s\n",
      "[CV] END ................................var_smoothing=1e-05; total time=   0.2s\n",
      "[CV] END ................var_smoothing=1.519911082952933e-06; total time=   0.2s\n",
      "[CV] END ................var_smoothing=2.848035868435799e-07; total time=   0.1s\n",
      "[CV] END ................var_smoothing=6.579332246575682e-08; total time=   0.2s\n",
      "[CV] END ................................var_smoothing=1e-08; total time=   0.1s\n",
      "[CV] END ................var_smoothing=2.310129700083158e-09; total time=   0.1s\n",
      "[CV] END ...................var_smoothing=0.3511191734215131; total time=   1.1s\n",
      "[CV] END ..................var_smoothing=0.03511191734215131; total time=   0.7s\n",
      "[CV] END .................................var_smoothing=0.01; total time=   0.2s\n",
      "[CV] END .................var_smoothing=0.002848035868435802; total time=   0.8s\n",
      "[CV] END ................var_smoothing=0.0005336699231206307; total time=   0.6s\n",
      "[CV] END ................var_smoothing=0.0001519911082952933; total time=   0.5s\n",
      "[CV] END ................var_smoothing=2.848035868435799e-05; total time=   0.4s\n",
      "[CV] END ................var_smoothing=4.328761281083053e-06; total time=   0.2s\n",
      "[CV] END ................var_smoothing=8.111308307896872e-07; total time=   0.1s\n",
      "[CV] END ................var_smoothing=1.519911082952933e-07; total time=   0.2s\n",
      "[CV] END ................var_smoothing=2.310129700083158e-08; total time=   0.3s\n",
      "[CV] END ...............var_smoothing=3.5111917342151273e-09; total time=   0.3s\n",
      "[CV] END ..................var_smoothing=0.43287612810830584; total time=   1.3s\n",
      "[CV] END .................var_smoothing=0.012328467394420659; total time=   0.6s\n",
      "[CV] END .................var_smoothing=0.002848035868435802; total time=   0.8s\n",
      "[CV] END ................var_smoothing=0.0005336699231206307; total time=   0.6s\n",
      "[CV] END ...............................var_smoothing=0.0001; total time=   0.5s\n",
      "[CV] END ................var_smoothing=2.310129700083158e-05; total time=   0.2s\n",
      "[CV] END ................var_smoothing=5.336699231206313e-06; total time=   0.2s\n",
      "[CV] END ................................var_smoothing=1e-06; total time=   0.2s\n",
      "[CV] END ................var_smoothing=2.310129700083158e-07; total time=   0.2s\n",
      "[CV] END ...............var_smoothing=4.3287612810830526e-08; total time=   0.1s\n",
      "[CV] END ................var_smoothing=2.310129700083158e-09; total time=   0.2s\n",
      "[CV] END ...................var_smoothing=0.2848035868435802; total time=   1.0s\n",
      "[CV] END .................var_smoothing=0.005336699231206307; total time=   0.6s\n",
      "[CV] END ................................var_smoothing=0.001; total time=   0.7s\n",
      "[CV] END ................var_smoothing=0.0002310129700083158; total time=   0.8s\n",
      "[CV] END ................var_smoothing=3.511191734215127e-05; total time=   0.4s\n",
      "[CV] END ................var_smoothing=6.579332246575683e-06; total time=   0.2s\n",
      "[CV] END ................var_smoothing=1.519911082952933e-06; total time=   0.2s\n",
      "[CV] END ................var_smoothing=2.848035868435799e-07; total time=   0.2s\n",
      "[CV] END ................var_smoothing=5.336699231206302e-08; total time=   0.2s\n",
      "[CV] END ................................var_smoothing=1e-08; total time=   0.1s\n",
      "[CV] END ................var_smoothing=1.873817422860387e-09; total time=   0.1s\n",
      "[CV] END ...................var_smoothing=0.8111308307896871; total time=   1.2s\n",
      "[CV] END ..................var_smoothing=0.15199110829529336; total time=   1.2s\n",
      "[CV] END ..................var_smoothing=0.08111308307896872; total time=   0.9s\n",
      "[CV] END ..................var_smoothing=0.02310129700083159; total time=   1.1s\n",
      "[CV] END .................var_smoothing=0.004328761281083057; total time=   0.8s\n",
      "[CV] END .................var_smoothing=0.001873817422860383; total time=   0.7s\n",
      "[CV] END ................var_smoothing=0.0004328761281083057; total time=   0.5s\n",
      "[CV] END ................var_smoothing=8.111308307896872e-05; total time=   0.5s\n",
      "[CV] END ...............var_smoothing=1.5199110829529332e-05; total time=   0.2s\n",
      "[CV] END ................var_smoothing=2.848035868435799e-06; total time=   0.2s\n",
      "[CV] END ...............var_smoothing=4.3287612810830526e-07; total time=   0.2s\n",
      "[CV] END ................var_smoothing=6.579332246575682e-08; total time=   0.2s\n",
      "[CV] END ................var_smoothing=1.519911082952933e-08; total time=   0.2s\n",
      "[CV] END ................var_smoothing=2.848035868435805e-09; total time=   0.4s\n",
      "[CV] END ....................var_smoothing=0.533669923120631; total time=   1.0s\n",
      "[CV] END ..................................var_smoothing=0.1; total time=   0.8s\n",
      "[CV] END ..................var_smoothing=0.04328761281083057; total time=   0.8s\n",
      "[CV] END .................................var_smoothing=0.01; total time=   0.7s\n",
      "[CV] END .................var_smoothing=0.001873817422860383; total time=   0.9s\n",
      "[CV] END ................var_smoothing=0.0003511191734215131; total time=   0.7s\n",
      "[CV] END ................var_smoothing=6.579332246575683e-05; total time=   0.5s\n",
      "[CV] END ...............var_smoothing=1.2328467394420658e-05; total time=   0.2s\n",
      "[CV] END ................var_smoothing=2.310129700083158e-06; total time=   0.3s\n",
      "[CV] END ...............var_smoothing=3.5111917342151277e-07; total time=   0.2s\n",
      "[CV] END ................var_smoothing=6.579332246575682e-08; total time=   0.2s\n",
      "[CV] END ................var_smoothing=1.232846739442066e-08; total time=   0.1s\n",
      "[CV] END ................var_smoothing=2.310129700083158e-09; total time=   0.3s\n",
      "[CV] END ...................var_smoothing=0.2848035868435802; total time=   1.2s\n",
      "[CV] END .................var_smoothing=0.008111308307896872; total time=   0.4s\n",
      "[CV] END .................var_smoothing=0.001873817422860383; total time=   1.0s\n",
      "[CV] END ................var_smoothing=0.0003511191734215131; total time=   0.7s\n",
      "[CV] END ................var_smoothing=6.579332246575683e-05; total time=   0.5s\n",
      "[CV] END ...............var_smoothing=1.2328467394420658e-05; total time=   0.2s\n",
      "[CV] END ................var_smoothing=1.873817422860383e-06; total time=   0.2s\n",
      "[CV] END ...............var_smoothing=4.3287612810830526e-07; total time=   0.2s\n",
      "[CV] END ................var_smoothing=8.111308307896873e-08; total time=   0.1s\n",
      "[CV] END ................var_smoothing=1.873817422860383e-08; total time=   0.2s\n",
      "[CV] END ................var_smoothing=2.848035868435805e-09; total time=   0.4s\n",
      "[CV] END ...................var_smoothing=0.2848035868435802; total time=   0.8s\n",
      "[CV] END ..................var_smoothing=0.01519911082952933; total time=   0.6s\n",
      "[CV] END .................var_smoothing=0.003511191734215131; total time=   0.7s\n",
      "[CV] END ................var_smoothing=0.0006579332246575676; total time=   0.7s\n",
      "[CV] END ................var_smoothing=0.0001232846739442066; total time=   0.3s\n",
      "[CV] END ................var_smoothing=2.310129700083158e-05; total time=   0.4s\n",
      "[CV] END ................var_smoothing=4.328761281083053e-06; total time=   0.2s\n",
      "[CV] END ................var_smoothing=6.579332246575682e-07; total time=   0.2s\n",
      "[CV] END ................................var_smoothing=1e-07; total time=   0.5s\n",
      "[CV] END ................................var_smoothing=1e-08; total time=   0.1s\n",
      "[CV] END ................var_smoothing=1.873817422860387e-09; total time=   0.2s\n",
      "[CV] END ....................var_smoothing=0.533669923120631; total time=   1.0s\n",
      "[CV] END ..................var_smoothing=0.15199110829529336; total time=   1.2s\n",
      "[CV] END ..................var_smoothing=0.08111308307896872; total time=   0.9s\n",
      "[CV] END .................var_smoothing=0.008111308307896872; total time=   0.4s\n",
      "[CV] END ................var_smoothing=0.0015199110829529332; total time=   1.2s\n",
      "[CV] END ................var_smoothing=0.0001873817422860383; total time=   0.4s\n",
      "[CV] END ................var_smoothing=4.328761281083062e-05; total time=   0.4s\n",
      "[CV] END ................var_smoothing=8.111308307896873e-06; total time=   0.1s\n",
      "[CV] END ................var_smoothing=1.873817422860383e-06; total time=   0.2s\n",
      "[CV] END ...............var_smoothing=3.5111917342151277e-07; total time=   0.2s\n",
      "[CV] END ................var_smoothing=8.111308307896873e-08; total time=   0.3s\n",
      "[CV] END ................................var_smoothing=1e-08; total time=   0.2s\n",
      "[CV] END ................var_smoothing=1.873817422860387e-09; total time=   0.1s\n",
      "[CV] END ..................var_smoothing=0.43287612810830584; total time=   0.9s\n",
      "[CV] END ..................var_smoothing=0.08111308307896872; total time=   0.6s\n",
      "[CV] END ..................var_smoothing=0.02848035868435802; total time=   0.7s\n",
      "[CV] END .................var_smoothing=0.008111308307896872; total time=   0.5s\n",
      "[CV] END ................var_smoothing=0.0015199110829529332; total time=   0.8s\n",
      "[CV] END ................var_smoothing=0.0003511191734215131; total time=   0.7s\n",
      "[CV] END ...............var_smoothing=5.3366992312063123e-05; total time=   0.5s\n",
      "[CV] END ................................var_smoothing=1e-05; total time=   0.2s\n",
      "[CV] END ................var_smoothing=1.873817422860383e-06; total time=   0.2s\n",
      "[CV] END ...............var_smoothing=3.5111917342151277e-07; total time=   0.2s\n",
      "[CV] END ................var_smoothing=6.579332246575682e-08; total time=   0.2s\n",
      "[CV] END ................var_smoothing=1.232846739442066e-08; total time=   0.2s\n",
      "[CV] END ................var_smoothing=1.873817422860387e-09; total time=   0.2s\n",
      "[CV] END ...................var_smoothing=0.2848035868435802; total time=   0.9s\n",
      "[CV] END ..................var_smoothing=0.01519911082952933; total time=   0.6s\n",
      "[CV] END .................var_smoothing=0.008111308307896872; total time=   0.5s\n",
      "[CV] END ................var_smoothing=0.0015199110829529332; total time=   0.9s\n",
      "[CV] END ................var_smoothing=0.0002848035868435802; total time=   0.5s\n",
      "[CV] END ................var_smoothing=6.579332246575683e-05; total time=   0.4s\n",
      "[CV] END ...............var_smoothing=1.2328467394420658e-05; total time=   0.2s\n",
      "[CV] END ................var_smoothing=2.310129700083158e-06; total time=   0.2s\n",
      "[CV] END ...............var_smoothing=4.3287612810830526e-07; total time=   0.1s\n",
      "[CV] END ................................var_smoothing=1e-07; total time=   0.1s\n",
      "[CV] END ................var_smoothing=1.873817422860383e-08; total time=   0.2s\n",
      "[CV] END ................var_smoothing=1.232846739442066e-08; total time=   0.3s\n",
      "[CV] END ................var_smoothing=2.310129700083158e-09; total time=   0.3s\n",
      "[CV] END ...................var_smoothing=0.3511191734215131; total time=   1.0s\n",
      "[CV] END ..................var_smoothing=0.01519911082952933; total time=   0.7s\n",
      "[CV] END .................var_smoothing=0.002848035868435802; total time=   0.8s\n",
      "[CV] END ................var_smoothing=0.0005336699231206307; total time=   0.8s\n",
      "[CV] END ...............................var_smoothing=0.0001; total time=   0.5s\n",
      "[CV] END ................var_smoothing=6.579332246575683e-06; total time=   0.2s\n",
      "[CV] END ................var_smoothing=1.519911082952933e-06; total time=   0.2s\n",
      "[CV] END ................var_smoothing=2.310129700083158e-07; total time=   0.4s\n",
      "[CV] END ...............var_smoothing=4.3287612810830526e-08; total time=   0.2s\n",
      "[CV] END ................var_smoothing=8.111308307896856e-09; total time=   0.1s\n",
      "[CV] END ................var_smoothing=1.873817422860387e-09; total time=   0.2s\n",
      "[CV] END ..................var_smoothing=0.23101297000831597; total time=   0.7s\n",
      "[CV] END .................var_smoothing=0.004328761281083057; total time=   0.6s\n",
      "[CV] END ................var_smoothing=0.0008111308307896872; total time=   0.7s\n",
      "[CV] END ................var_smoothing=0.0001519911082952933; total time=   0.5s\n",
      "[CV] END ................var_smoothing=2.848035868435799e-05; total time=   0.4s\n",
      "[CV] END ................var_smoothing=5.336699231206313e-06; total time=   0.1s\n",
      "[CV] END ................................var_smoothing=1e-06; total time=   0.2s\n",
      "[CV] END ................var_smoothing=1.873817422860383e-07; total time=   0.3s\n",
      "[CV] END ...............var_smoothing=3.5111917342151277e-08; total time=   0.2s\n",
      "[CV] END ................var_smoothing=6.579332246575682e-09; total time=   0.1s\n",
      "[CV] END ................var_smoothing=1.519911082952933e-09; total time=   0.1s\n",
      "[CV] END ...................var_smoothing=0.8111308307896871; total time=   1.2s\n",
      "[CV] END ..................................var_smoothing=0.1; total time=   0.9s\n",
      "[CV] END ...................var_smoothing=0.0533669923120631; total time=   0.8s\n",
      "[CV] END ..................var_smoothing=0.01873817422860384; total time=   0.9s\n",
      "[CV] END .................var_smoothing=0.003511191734215131; total time=   0.8s\n",
      "[CV] END ................var_smoothing=0.0006579332246575676; total time=   0.6s\n",
      "[CV] END ................var_smoothing=0.0001232846739442066; total time=   0.4s\n",
      "[CV] END ................var_smoothing=2.310129700083158e-05; total time=   0.3s\n",
      "[CV] END ................var_smoothing=5.336699231206313e-06; total time=   0.2s\n",
      "[CV] END ................................var_smoothing=1e-06; total time=   0.1s\n",
      "[CV] END ................var_smoothing=1.873817422860383e-07; total time=   0.3s\n",
      "[CV] END ...............var_smoothing=3.5111917342151277e-08; total time=   0.2s\n",
      "[CV] END ................var_smoothing=6.579332246575682e-09; total time=   0.1s\n",
      "[CV] END ................var_smoothing=1.519911082952933e-09; total time=   0.1s\n",
      "[CV] END ...................var_smoothing=0.3511191734215131; total time=   1.2s\n",
      "[CV] END .................................var_smoothing=0.01; total time=   0.7s\n",
      "[CV] END ................var_smoothing=0.0006579332246575676; total time=   0.5s\n",
      "[CV] END ................var_smoothing=0.0001873817422860383; total time=   0.5s\n",
      "[CV] END ................var_smoothing=4.328761281083062e-05; total time=   0.5s\n",
      "[CV] END ................var_smoothing=8.111308307896873e-06; total time=   0.3s\n",
      "[CV] END ................var_smoothing=1.232846739442066e-06; total time=   0.1s\n",
      "[CV] END ................var_smoothing=2.310129700083158e-07; total time=   0.3s\n",
      "[CV] END ................var_smoothing=5.336699231206302e-08; total time=   0.3s\n",
      "[CV] END ................var_smoothing=8.111308307896856e-09; total time=   0.1s\n",
      "[CV] END ................var_smoothing=1.519911082952933e-09; total time=   0.1s\n",
      "[CV] END ....................var_smoothing=0.657933224657568; total time=   1.4s\n",
      "[CV] END ...................var_smoothing=0.0533669923120631; total time=   0.9s\n",
      "[CV] END ..................var_smoothing=0.01519911082952933; total time=   0.7s\n",
      "[CV] END .................var_smoothing=0.004328761281083057; total time=   0.6s\n",
      "[CV] END ................var_smoothing=0.0008111308307896872; total time=   0.7s\n",
      "[CV] END ................var_smoothing=0.0001873817422860383; total time=   0.6s\n",
      "[CV] END ................var_smoothing=2.848035868435799e-05; total time=   0.4s\n",
      "[CV] END ................var_smoothing=4.328761281083053e-06; total time=   0.3s\n",
      "[CV] END ................var_smoothing=8.111308307896872e-07; total time=   0.1s\n",
      "[CV] END ................var_smoothing=1.519911082952933e-07; total time=   0.3s\n",
      "[CV] END ................var_smoothing=8.111308307896856e-09; total time=   0.1s\n",
      "[CV] END ................var_smoothing=1.519911082952933e-09; total time=   0.2s\n",
      "[CV] END ...................var_smoothing=0.2848035868435802; total time=   0.7s\n",
      "[CV] END .................var_smoothing=0.012328467394420659; total time=   0.8s\n",
      "[CV] END ................var_smoothing=0.0023101297000831605; total time=   1.2s\n",
      "[CV] END ................var_smoothing=0.0002848035868435802; total time=   0.9s\n",
      "[CV] END ................var_smoothing=3.511191734215127e-05; total time=   0.4s\n",
      "[CV] END ................var_smoothing=8.111308307896873e-06; total time=   0.2s\n",
      "[CV] END ................var_smoothing=1.519911082952933e-06; total time=   0.1s\n",
      "[CV] END ...............var_smoothing=3.5111917342151277e-07; total time=   0.3s\n",
      "[CV] END ................var_smoothing=5.336699231206302e-08; total time=   0.2s\n",
      "[CV] END ................var_smoothing=1.232846739442066e-08; total time=   0.2s\n",
      "[CV] END ................................var_smoothing=1e-08; total time=   0.1s\n",
      "[CV] END ................var_smoothing=1.519911082952933e-09; total time=   0.2s\n",
      "[CV] END ..................var_smoothing=0.23101297000831597; total time=   0.9s\n",
      "[CV] END .................var_smoothing=0.004328761281083057; total time=   0.5s\n",
      "[CV] END ................var_smoothing=0.0008111308307896872; total time=   0.9s\n",
      "[CV] END ................var_smoothing=0.0001232846739442066; total time=   0.4s\n",
      "[CV] END ................var_smoothing=2.848035868435799e-05; total time=   0.4s\n",
      "[CV] END ................var_smoothing=4.328761281083053e-06; total time=   0.2s\n",
      "[CV] END ................var_smoothing=8.111308307896872e-07; total time=   0.1s\n",
      "[CV] END ................var_smoothing=1.519911082952933e-07; total time=   0.1s\n",
      "[CV] END ................var_smoothing=2.848035868435799e-08; total time=   0.1s\n",
      "[CV] END ................var_smoothing=5.336699231206302e-09; total time=   0.1s\n",
      "[CV] END ...............var_smoothing=1.2328467394420635e-09; total time=   0.1s\n",
      "[CV] END ....................var_smoothing=0.657933224657568; total time=   1.3s\n",
      "[CV] END ..................................var_smoothing=0.1; total time=   0.7s\n",
      "[CV] END ..................var_smoothing=0.04328761281083057; total time=   1.0s\n",
      "[CV] END .................var_smoothing=0.012328467394420659; total time=   0.7s\n",
      "[CV] END .................var_smoothing=0.001873817422860383; total time=   1.2s\n",
      "[CV] END ................var_smoothing=0.0002310129700083158; total time=   0.6s\n",
      "[CV] END ................var_smoothing=4.328761281083062e-05; total time=   0.5s\n",
      "[CV] END ................var_smoothing=8.111308307896873e-06; total time=   0.2s\n",
      "[CV] END ................var_smoothing=5.336699231206313e-06; total time=   0.1s\n",
      "[CV] END ................var_smoothing=1.232846739442066e-06; total time=   0.1s\n",
      "[CV] END ................var_smoothing=2.310129700083158e-07; total time=   0.3s\n",
      "[CV] END ...............var_smoothing=4.3287612810830526e-08; total time=   0.2s\n",
      "[CV] END ................var_smoothing=8.111308307896856e-09; total time=   0.2s\n",
      "[CV] END ...............var_smoothing=1.2328467394420635e-09; total time=   0.2s\n",
      "[CV] END ..................................var_smoothing=1.0; total time=   1.3s\n",
      "[CV] END ...................var_smoothing=0.0657933224657568; total time=   0.8s\n",
      "[CV] END ..................var_smoothing=0.01873817422860384; total time=   1.0s\n",
      "[CV] END .................var_smoothing=0.003511191734215131; total time=   0.8s\n",
      "[CV] END ................var_smoothing=0.0006579332246575676; total time=   0.8s\n",
      "[CV] END ...............................var_smoothing=0.0001; total time=   0.6s\n",
      "[CV] END ................var_smoothing=1.873817422860383e-05; total time=   0.2s\n",
      "[CV] END ................var_smoothing=5.336699231206313e-06; total time=   0.2s\n",
      "[CV] END ................................var_smoothing=1e-06; total time=   0.2s\n",
      "[CV] END ................var_smoothing=1.873817422860383e-07; total time=   0.2s\n",
      "[CV] END ...............var_smoothing=3.5111917342151277e-08; total time=   0.2s\n",
      "[CV] END ................var_smoothing=5.336699231206302e-09; total time=   0.1s\n",
      "[CV] END ...............var_smoothing=1.2328467394420635e-09; total time=   0.2s\n",
      "[CV] END ..................................var_smoothing=1.0; total time=   1.2s\n",
      "[CV] END ...................var_smoothing=0.1873817422860384; total time=   1.0s\n",
      "[CV] END ..................................var_smoothing=0.1; total time=   0.9s\n",
      "[CV] END ..................var_smoothing=0.03511191734215131; total time=   1.1s\n",
      "[CV] END .................var_smoothing=0.005336699231206307; total time=   0.7s\n",
      "[CV] END ................................var_smoothing=0.001; total time=   1.0s\n",
      "[CV] END ................var_smoothing=0.0001519911082952933; total time=   0.5s\n",
      "[CV] END ................var_smoothing=3.511191734215127e-05; total time=   0.4s\n",
      "[CV] END ................var_smoothing=6.579332246575683e-06; total time=   0.2s\n",
      "[CV] END ................var_smoothing=1.232846739442066e-06; total time=   0.2s\n",
      "[CV] END ................var_smoothing=1.873817422860383e-07; total time=   0.2s\n",
      "[CV] END ...............var_smoothing=4.3287612810830526e-08; total time=   0.2s\n",
      "[CV] END ................var_smoothing=2.848035868435799e-08; total time=   0.1s\n",
      "[CV] END ................var_smoothing=5.336699231206302e-09; total time=   0.1s\n",
      "[CV] END ...............var_smoothing=1.2328467394420635e-09; total time=   0.1s\n",
      "[CV] END ..................var_smoothing=0.43287612810830584; total time=   0.8s\n",
      "[CV] END ..................var_smoothing=0.12328467394420659; total time=   0.9s\n",
      "[CV] END ...................var_smoothing=0.0657933224657568; total time=   0.6s\n",
      "[CV] END ..................var_smoothing=0.02848035868435802; total time=   0.8s\n",
      "[CV] END .................var_smoothing=0.006579332246575682; total time=   0.6s\n",
      "[CV] END ................var_smoothing=0.0012328467394420659; total time=   1.0s\n",
      "[CV] END ................var_smoothing=0.0002310129700083158; total time=   0.5s\n",
      "[CV] END ...............var_smoothing=5.3366992312063123e-05; total time=   0.5s\n",
      "[CV] END ................................var_smoothing=1e-05; total time=   0.2s\n",
      "[CV] END ................var_smoothing=1.873817422860383e-06; total time=   0.2s\n",
      "[CV] END ................var_smoothing=2.848035868435799e-07; total time=   0.2s\n",
      "[CV] END ................var_smoothing=5.336699231206302e-08; total time=   0.2s\n",
      "[CV] END ................var_smoothing=1.232846739442066e-08; total time=   0.2s\n",
      "[CV] END ................var_smoothing=8.111308307896856e-09; total time=   0.3s\n",
      "[CV] END ................................var_smoothing=1e-09; total time=   0.2s\n",
      "[CV] END ..................var_smoothing=0.43287612810830584; total time=   1.3s\n",
      "[CV] END ..................var_smoothing=0.03511191734215131; total time=   0.9s\n",
      "[CV] END .................var_smoothing=0.003511191734215131; total time=   0.7s\n",
      "[CV] END ................var_smoothing=0.0008111308307896872; total time=   0.6s\n",
      "[CV] END ................var_smoothing=0.0001873817422860383; total time=   0.5s\n",
      "[CV] END ................var_smoothing=2.848035868435799e-05; total time=   0.4s\n",
      "[CV] END ................var_smoothing=6.579332246575683e-06; total time=   0.2s\n",
      "[CV] END ................................var_smoothing=1e-06; total time=   0.1s\n",
      "[CV] END ................var_smoothing=1.873817422860383e-07; total time=   0.2s\n",
      "[CV] END ...............var_smoothing=3.5111917342151277e-08; total time=   0.2s\n",
      "[CV] END ................var_smoothing=6.579332246575682e-09; total time=   0.2s\n",
      "[CV] END ...............var_smoothing=1.2328467394420635e-09; total time=   0.2s\n",
      "[CV] END ....................var_smoothing=0.533669923120631; total time=   0.7s\n",
      "[CV] END ...................var_smoothing=0.1873817422860384; total time=   0.7s\n",
      "[CV] END ..................................var_smoothing=0.1; total time=   0.8s\n",
      "[CV] END ...................var_smoothing=0.0657933224657568; total time=   1.0s\n",
      "[CV] END ..................var_smoothing=0.01519911082952933; total time=   0.6s\n",
      "[CV] END .................var_smoothing=0.003511191734215131; total time=   0.6s\n",
      "[CV] END ................var_smoothing=0.0006579332246575676; total time=   0.8s\n",
      "[CV] END ................var_smoothing=0.0001232846739442066; total time=   0.5s\n",
      "[CV] END ................var_smoothing=2.310129700083158e-05; total time=   0.6s\n",
      "[CV] END ...............var_smoothing=3.5111917342151275e-06; total time=   0.2s\n",
      "[CV] END ................var_smoothing=8.111308307896872e-07; total time=   0.1s\n",
      "[CV] END ................var_smoothing=1.519911082952933e-07; total time=   0.1s\n",
      "[CV] END ...............var_smoothing=3.5111917342151277e-08; total time=   0.2s\n",
      "[CV] END ................var_smoothing=6.579332246575682e-09; total time=   0.2s\n",
      "[CV] END ................................var_smoothing=1e-09; total time=   0.1s\n",
      "[CV] END ...................var_smoothing=0.3511191734215131; total time=   1.2s\n",
      "[CV] END .................var_smoothing=0.005336699231206307; total time=   0.6s\n",
      "[CV] END ................var_smoothing=0.0008111308307896872; total time=   1.1s\n",
      "[CV] END ................var_smoothing=0.0001232846739442066; total time=   0.6s\n",
      "[CV] END ................var_smoothing=1.873817422860383e-05; total time=   0.2s\n",
      "[CV] END ...............var_smoothing=3.5111917342151275e-06; total time=   0.1s\n",
      "[CV] END ................var_smoothing=6.579332246575682e-07; total time=   0.1s\n",
      "[CV] END ................var_smoothing=1.232846739442066e-07; total time=   0.2s\n",
      "[CV] END ................var_smoothing=2.310129700083158e-08; total time=   0.1s\n",
      "[CV] END ................var_smoothing=5.336699231206302e-09; total time=   0.1s\n",
      "[CV] END ................................var_smoothing=1e-09; total time=   0.1s\n",
      "[CV] END ..................var_smoothing=0.23101297000831597; total time=   1.1s\n",
      "[CV] END .................var_smoothing=0.006579332246575682; total time=   0.7s\n",
      "[CV] END ................var_smoothing=0.0012328467394420659; total time=   0.7s\n",
      "[CV] END ................var_smoothing=0.0002848035868435802; total time=   0.8s\n",
      "[CV] END ................var_smoothing=4.328761281083062e-05; total time=   0.5s\n",
      "[CV] END ................var_smoothing=6.579332246575683e-06; total time=   0.1s\n",
      "[CV] END ................var_smoothing=1.232846739442066e-06; total time=   0.2s\n",
      "[CV] END ................var_smoothing=2.310129700083158e-07; total time=   0.5s\n",
      "[CV] END ................var_smoothing=2.848035868435799e-08; total time=   0.1s\n",
      "[CV] END ................var_smoothing=6.579332246575682e-09; total time=   0.2s\n",
      "[CV] END ................................var_smoothing=1e-09; total time=   0.2s\n",
      "[CV] END ..................................var_smoothing=1.0; total time=   1.4s\n",
      "[CV] END ...................var_smoothing=0.1873817422860384; total time=   1.0s\n",
      "[CV] END ...................var_smoothing=0.1873817422860384; total time=   1.5s\n",
      "[CV] END ...................var_smoothing=0.1873817422860384; total time=   1.2s\n",
      "[CV] END ..................var_smoothing=0.12328467394420659; total time=   1.0s\n",
      "[CV] END ...................var_smoothing=0.0533669923120631; total time=   0.9s\n",
      "[CV] END ..................var_smoothing=0.01873817422860384; total time=   1.1s\n",
      "[CV] END .................var_smoothing=0.002848035868435802; total time=   0.7s\n",
      "[CV] END ................var_smoothing=0.0005336699231206307; total time=   0.4s\n",
      "[CV] END ................var_smoothing=0.0001519911082952933; total time=   0.4s\n",
      "[CV] END ................var_smoothing=3.511191734215127e-05; total time=   0.5s\n",
      "[CV] END ................var_smoothing=4.328761281083053e-06; total time=   0.2s\n",
      "[CV] END ................var_smoothing=8.111308307896872e-07; total time=   0.1s\n",
      "[CV] END ................var_smoothing=1.519911082952933e-07; total time=   0.2s\n",
      "[CV] END ................var_smoothing=2.848035868435799e-08; total time=   0.1s\n",
      "[CV] END ................var_smoothing=5.336699231206302e-09; total time=   0.1s\n",
      "[CV] END ................................var_smoothing=1e-09; total time=   0.1s\n"
     ]
    }
   ],
   "source": [
    "# Oversample and plot imbalanced dataset with SMOTE and ENN\n",
    "\n",
    "# summarize class distribution\n",
    "counter = Counter(y_train)\n",
    "print(counter)\n",
    "# transform the dataset\n",
    "oversample = SMOTEENN(random_state=42)\n",
    "X_train_rel, y_train_rel = oversample.fit_resample(X_train, y_train)\n",
    "# summarize the new class distribution\n",
    "counter = Counter(y_train_rel)\n",
    "print(counter)\n",
    "\n",
    "fit_and_print(best_grid, X_train_rel, y_train_rel)\n",
    "\n",
    "calculate_pred_and_inf_time(best_grid, X_test)"
   ]
  }
 ],
 "metadata": {
  "kernelspec": {
   "display_name": "Python [conda env:work-asa]",
   "language": "python",
   "name": "conda-env-work-asa-py"
  },
  "language_info": {
   "codemirror_mode": {
    "name": "ipython",
    "version": 3
   },
   "file_extension": ".py",
   "mimetype": "text/x-python",
   "name": "python",
   "nbconvert_exporter": "python",
   "pygments_lexer": "ipython3",
   "version": "3.9.6"
  }
 },
 "nbformat": 4,
 "nbformat_minor": 4
}
