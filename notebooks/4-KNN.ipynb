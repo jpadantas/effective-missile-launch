{
 "cells": [
  {
   "cell_type": "markdown",
   "metadata": {},
   "source": [
    "# K Nearest Neighbors\n",
    "\n",
    "We'll try to use KNN to create a model that directly predicts a class for a new data point based off of the features.\n",
    "\n",
    "**Training Algorithm:**\n",
    "1. Store all the data\n",
    "\n",
    "**Prediction Algorithm:**\n",
    "1. Calculate the distance from x to all points in your data\n",
    "2. Sort the points in your data by increasing distance from x\n",
    "3. Predict the majority label of the 'k' closest points\n",
    "\n",
    "**Pros**\n",
    "- Very simple\n",
    "- Training is trivial\n",
    "- Works with any number of classes\n",
    "- Easy to add more data\n",
    "- Few parameters: K and Distance Metric\n",
    "\n",
    "**Cons**\n",
    "- High Prediction Cost (worse for large datasets)\n",
    "- Not good with high dimensional data\n",
    "- Categorial Features don't work well"
   ]
  },
  {
   "cell_type": "markdown",
   "metadata": {},
   "source": [
    "## Libraries"
   ]
  },
  {
   "cell_type": "code",
   "execution_count": 1,
   "metadata": {},
   "outputs": [],
   "source": [
    "import pandas as pd\n",
    "import numpy as np\n",
    "import matplotlib.pyplot as plt\n",
    "from sklearn.metrics import accuracy_score, precision_score, recall_score, f1_score, classification_report, confusion_matrix\n",
    "from sklearn.model_selection import GridSearchCV, train_test_split\n",
    "from sklearn.neighbors import KNeighborsClassifier\n",
    "from sklearn.preprocessing import StandardScaler\n",
    "import time\n",
    "from collections import Counter\n",
    "from imblearn.over_sampling import SMOTE, ADASYN, SMOTENC\n",
    "from imblearn.combine import SMOTETomek, SMOTEENN \n",
    "import matplotlib.pyplot as plt\n",
    "from numpy import where"
   ]
  },
  {
   "cell_type": "markdown",
   "metadata": {},
   "source": [
    "## Read the data from csv"
   ]
  },
  {
   "cell_type": "code",
   "execution_count": 2,
   "metadata": {},
   "outputs": [],
   "source": [
    "df_train = pd.read_csv('../data/df_train.csv')\n",
    "df_test = pd.read_csv('../data/df_test.csv')\n",
    "\n",
    "X_train = df_train.drop('kill', axis=1)\n",
    "y_train = df_train['kill']\n",
    "X_test = df_test.drop(['kill'], axis=1)\n",
    "y_test = df_test['kill']\n",
    "\n",
    "X_train = X_train.values\n",
    "y_train = y_train.values\n",
    "X_test = X_test.values\n",
    "y_test = y_test.values"
   ]
  },
  {
   "cell_type": "markdown",
   "metadata": {},
   "source": [
    "## Standardize the Variables\n",
    "\n",
    "Because the KNN classifier predicts the class of a given test observation by identifying the observations that are nearest to it, the scale of the variables matters. Any variables that are on a large scale will have a much larger effect on the distance between the observations, and hence on the KNN classifier, than variables that are on a small scale.\n",
    "\n",
    "Time to standardize the variables.\n",
    "\n",
    "**Use StandardScaler from Scikit Learn and create a StandardScaler() object called scaler.**"
   ]
  },
  {
   "cell_type": "code",
   "execution_count": 3,
   "metadata": {},
   "outputs": [],
   "source": [
    "scaler = StandardScaler()"
   ]
  },
  {
   "cell_type": "markdown",
   "metadata": {},
   "source": [
    "**Fit scaler to the features.**"
   ]
  },
  {
   "cell_type": "code",
   "execution_count": 4,
   "metadata": {},
   "outputs": [
    {
     "data": {
      "text/plain": [
       "StandardScaler()"
      ]
     },
     "execution_count": 4,
     "metadata": {},
     "output_type": "execute_result"
    }
   ],
   "source": [
    "scaler.fit(X_train)"
   ]
  },
  {
   "cell_type": "markdown",
   "metadata": {},
   "source": [
    "**Use the .transform() method to transform the features to a scaled version.**"
   ]
  },
  {
   "cell_type": "code",
   "execution_count": 5,
   "metadata": {},
   "outputs": [],
   "source": [
    "X_train = scaler.transform(X_train)\n",
    "X_test = scaler.transform(X_test)"
   ]
  },
  {
   "cell_type": "markdown",
   "metadata": {},
   "source": [
    "### Using KNN\n",
    "\n",
    "**Use KNeighborsClassifier from scikit learn.**"
   ]
  },
  {
   "cell_type": "markdown",
   "metadata": {},
   "source": [
    "Remember that we are trying to come up with a model to predict whether it kill is True or False. We'll start with k=1.\n",
    "\n",
    "**Create a KNN model instance with n_neighbors=1**"
   ]
  },
  {
   "cell_type": "code",
   "execution_count": 6,
   "metadata": {},
   "outputs": [],
   "source": [
    "model = KNeighborsClassifier(n_neighbors=1)"
   ]
  },
  {
   "cell_type": "markdown",
   "metadata": {},
   "source": [
    "**Fit this KNN model to the training data.**"
   ]
  },
  {
   "cell_type": "code",
   "execution_count": 7,
   "metadata": {},
   "outputs": [
    {
     "data": {
      "text/plain": [
       "KNeighborsClassifier(n_neighbors=1)"
      ]
     },
     "execution_count": 7,
     "metadata": {},
     "output_type": "execute_result"
    }
   ],
   "source": [
    "model.fit(X_train,y_train)"
   ]
  },
  {
   "cell_type": "markdown",
   "metadata": {},
   "source": [
    "### Predictions and Evaluations\n",
    "Let's evaluate our KNN model!"
   ]
  },
  {
   "cell_type": "markdown",
   "metadata": {},
   "source": [
    "**Use the predict method to predict values using your KNN model and X_test.**"
   ]
  },
  {
   "cell_type": "code",
   "execution_count": 8,
   "metadata": {},
   "outputs": [],
   "source": [
    "predictions = model.predict(X_test)"
   ]
  },
  {
   "cell_type": "markdown",
   "metadata": {},
   "source": [
    "**Create a confusion matrix and classification report.**"
   ]
  },
  {
   "cell_type": "code",
   "execution_count": 9,
   "metadata": {},
   "outputs": [
    {
     "name": "stdout",
     "output_type": "stream",
     "text": [
      "[[18440  1781]\n",
      " [ 1819  1001]]\n"
     ]
    }
   ],
   "source": [
    "print(confusion_matrix(y_test, predictions))"
   ]
  },
  {
   "cell_type": "markdown",
   "metadata": {},
   "source": [
    "Macro average and weighted average meaning in classification_report:\n",
    "#### https://datascience.stackexchange.com/questions/65839/macro-average-and-weighted-average-meaning-in-classification-report"
   ]
  },
  {
   "cell_type": "code",
   "execution_count": 10,
   "metadata": {},
   "outputs": [
    {
     "name": "stdout",
     "output_type": "stream",
     "text": [
      "              precision    recall  f1-score   support\n",
      "\n",
      "           0       0.91      0.91      0.91     20221\n",
      "           1       0.36      0.35      0.36      2820\n",
      "\n",
      "    accuracy                           0.84     23041\n",
      "   macro avg       0.64      0.63      0.63     23041\n",
      "weighted avg       0.84      0.84      0.84     23041\n",
      "\n"
     ]
    }
   ],
   "source": [
    "print(classification_report(y_test, predictions))"
   ]
  },
  {
   "cell_type": "code",
   "execution_count": 11,
   "metadata": {},
   "outputs": [],
   "source": [
    "def fit_and_print(model, X_train, y_train):\n",
    "    model.fit(X_train, y_train)  \n",
    "    y_pred = model.predict(X_test)\n",
    "    print(\"Confusion Matrix: \\n\", confusion_matrix(y_test, y_pred))  \n",
    "    print(\"Classification Report: \\n\", classification_report(y_test, y_pred))  \n",
    "    print(\"Accuracy: \", round(accuracy_score(y_test, y_pred),3))\n",
    "    print(\"Precision:\", round(precision_score(y_test, y_pred),3))\n",
    "    print(\"Recall:\", round(recall_score(y_test, y_pred),3))\n",
    "    print(\"f1: \", round(f1_score(y_test, y_pred),3))"
   ]
  },
  {
   "cell_type": "code",
   "execution_count": 12,
   "metadata": {},
   "outputs": [
    {
     "name": "stdout",
     "output_type": "stream",
     "text": [
      "Confusion Matrix: \n",
      " [[18440  1781]\n",
      " [ 1819  1001]]\n",
      "Classification Report: \n",
      "               precision    recall  f1-score   support\n",
      "\n",
      "           0       0.91      0.91      0.91     20221\n",
      "           1       0.36      0.35      0.36      2820\n",
      "\n",
      "    accuracy                           0.84     23041\n",
      "   macro avg       0.64      0.63      0.63     23041\n",
      "weighted avg       0.84      0.84      0.84     23041\n",
      "\n",
      "Accuracy:  0.844\n",
      "Precision: 0.36\n",
      "Recall: 0.355\n",
      "f1:  0.357\n"
     ]
    }
   ],
   "source": [
    "fit_and_print(model, X_train, y_train)"
   ]
  },
  {
   "cell_type": "markdown",
   "metadata": {},
   "source": [
    "### Choosing a K Value\n",
    "One way to choose the k value is using the **Elbow Method** to pick a good K Value!\n",
    "\n",
    "**Create a for loop that trains various KNN models with different k values, then keep track of the error_rate for each of these models with a list. Refer to the lecture if you are confused on this step.**"
   ]
  },
  {
   "cell_type": "code",
   "execution_count": 13,
   "metadata": {},
   "outputs": [],
   "source": [
    "error_rate = []\n",
    "num = 50\n",
    "\n",
    "X_train_new, X_val, y_train_new, y_val = train_test_split(X_train, y_train, test_size=0.20,random_state=101, stratify=y_train)\n",
    "\n",
    "# It will take some time\n",
    "for i in range(1,num):\n",
    "    knn_model = KNeighborsClassifier(n_neighbors=i, n_jobs=-1 )\n",
    "    knn_model.fit(X_train_new,y_train_new)\n",
    "    knn_prediction_i = knn_model.predict(X_val)\n",
    "    error_rate.append(np.mean(knn_prediction_i != y_val))"
   ]
  },
  {
   "cell_type": "markdown",
   "metadata": {},
   "source": [
    "**Now create the following plot using the information from your for loop.**"
   ]
  },
  {
   "cell_type": "code",
   "execution_count": 14,
   "metadata": {},
   "outputs": [
    {
     "data": {
      "text/plain": [
       "Text(0, 0.5, 'Error Rate')"
      ]
     },
     "execution_count": 14,
     "metadata": {},
     "output_type": "execute_result"
    },
    {
     "data": {
      "image/png": "[encoded data removed]",
      "text/plain": [
       "<Figure size 720x432 with 1 Axes>"
      ]
     },
     "metadata": {
      "needs_background": "light"
     },
     "output_type": "display_data"
    }
   ],
   "source": [
    "plt.figure(figsize=(10,6))\n",
    "plt.plot(range(1,num),error_rate,color='blue', linestyle='dashed', marker='o',\n",
    "         markerfacecolor='red', markersize=10)\n",
    "plt.title('Error Rate vs. K Value')\n",
    "plt.xlabel('K')\n",
    "plt.ylabel('Error Rate')"
   ]
  },
  {
   "cell_type": "markdown",
   "metadata": {},
   "source": [
    "#### Retrain with new K Value\n",
    "Let's retrain the model with the best k value to minimize the error and check the classification report!\n",
    "\n",
    "**Retrain your model with the best K value (up to you to decide what you want) and re-do the classification report and the confusion matrix.**"
   ]
  },
  {
   "cell_type": "code",
   "execution_count": 15,
   "metadata": {},
   "outputs": [
    {
     "name": "stdout",
     "output_type": "stream",
     "text": [
      "WITH K=14\n",
      "\n",
      "\n",
      "[[19889   332]\n",
      " [ 2246   574]]\n",
      "\n",
      "\n",
      "              precision    recall  f1-score   support\n",
      "\n",
      "           0       0.90      0.98      0.94     20221\n",
      "           1       0.63      0.20      0.31      2820\n",
      "\n",
      "    accuracy                           0.89     23041\n",
      "   macro avg       0.77      0.59      0.62     23041\n",
      "weighted avg       0.87      0.89      0.86     23041\n",
      "\n",
      "Confusion Matrix: \n",
      " [[19889   332]\n",
      " [ 2246   574]]\n",
      "Classification Report: \n",
      "               precision    recall  f1-score   support\n",
      "\n",
      "           0       0.90      0.98      0.94     20221\n",
      "           1       0.63      0.20      0.31      2820\n",
      "\n",
      "    accuracy                           0.89     23041\n",
      "   macro avg       0.77      0.59      0.62     23041\n",
      "weighted avg       0.87      0.89      0.86     23041\n",
      "\n",
      "Accuracy:  0.888\n",
      "Precision: 0.634\n",
      "Recall: 0.204\n",
      "f1:  0.308\n"
     ]
    }
   ],
   "source": [
    "# NOW WITH K=14\n",
    "knn_model = KNeighborsClassifier(n_neighbors=14)\n",
    "\n",
    "knn_model.fit(X_train,y_train)\n",
    "knn_predictions = knn_model.predict(X_test)\n",
    "\n",
    "print('WITH K=14')\n",
    "print('\\n')\n",
    "print(confusion_matrix(y_test, knn_predictions))\n",
    "print('\\n')\n",
    "print(classification_report(y_test, knn_predictions))\n",
    "fit_and_print(knn_model, X_train, y_train)"
   ]
  },
  {
   "cell_type": "markdown",
   "metadata": {},
   "source": [
    "### Gridsearch"
   ]
  },
  {
   "cell_type": "markdown",
   "metadata": {},
   "source": [
    "Another way to find the optimal k value is using grid search"
   ]
  },
  {
   "cell_type": "code",
   "execution_count": 16,
   "metadata": {},
   "outputs": [
    {
     "name": "stdout",
     "output_type": "stream",
     "text": [
      "Fitting 5 folds for each of 50 candidates, totalling 250 fits\n"
     ]
    },
    {
     "data": {
      "text/plain": [
       "GridSearchCV(cv=5, estimator=KNeighborsClassifier(), n_jobs=-1,\n",
       "             param_grid={'n_neighbors': array([ 1,  2,  3,  4,  5,  6,  7,  8,  9, 10, 11, 12, 13, 14, 15, 16, 17,\n",
       "       18, 19, 20, 21, 22, 23, 24, 25, 26, 27, 28, 29, 30, 31, 32, 33, 34,\n",
       "       35, 36, 37, 38, 39, 40, 41, 42, 43, 44, 45, 46, 47, 48, 49, 50])},\n",
       "             verbose=2)"
      ]
     },
     "execution_count": 16,
     "metadata": {},
     "output_type": "execute_result"
    }
   ],
   "source": [
    "# Create the parameter grid based on the results of random search \n",
    "param_grid = {'n_neighbors': np.arange(1,51)}\n",
    "# Create a based model\n",
    "knn = KNeighborsClassifier()\n",
    "\n",
    "# Instantiate the grid search model\n",
    "grid_search = GridSearchCV(estimator = knn, param_grid = param_grid, \n",
    "                          cv = 5, n_jobs = -1, verbose = 2)\n",
    "\n",
    "# Fit the grid search to the data\n",
    "grid_search.fit(X_train, y_train)"
   ]
  },
  {
   "cell_type": "code",
   "execution_count": 17,
   "metadata": {},
   "outputs": [
    {
     "data": {
      "text/plain": [
       "{'n_neighbors': 12}"
      ]
     },
     "execution_count": 17,
     "metadata": {},
     "output_type": "execute_result"
    }
   ],
   "source": [
    "grid_search.best_params_"
   ]
  },
  {
   "cell_type": "code",
   "execution_count": 18,
   "metadata": {},
   "outputs": [],
   "source": [
    "best_grid = grid_search.best_estimator_"
   ]
  },
  {
   "cell_type": "code",
   "execution_count": 30,
   "metadata": {},
   "outputs": [
    {
     "name": "stdout",
     "output_type": "stream",
     "text": [
      "Confusion Matrix: \n",
      " [[19889   332]\n",
      " [ 2233   587]]\n",
      "Classification Report: \n",
      "               precision    recall  f1-score   support\n",
      "\n",
      "           0       0.90      0.98      0.94     20221\n",
      "           1       0.64      0.21      0.31      2820\n",
      "\n",
      "    accuracy                           0.89     23041\n",
      "   macro avg       0.77      0.60      0.63     23041\n",
      "weighted avg       0.87      0.89      0.86     23041\n",
      "\n",
      "Accuracy:  0.889\n",
      "Precision: 0.639\n",
      "Recall: 0.208\n",
      "f1:  0.314\n"
     ]
    }
   ],
   "source": [
    "fit_and_print(best_grid, X_train, y_train)"
   ]
  },
  {
   "cell_type": "code",
   "execution_count": 31,
   "metadata": {},
   "outputs": [
    {
     "name": "stdout",
     "output_type": "stream",
     "text": [
      "Inference Time: 3903.085 miliseconds\n"
     ]
    }
   ],
   "source": [
    "def calculate_pred_and_inf_time(best_grid, X_test):\n",
    "    # get the start time\n",
    "    st_wall_inf = time.time()\n",
    "\n",
    "    # Generate generalization metrics\n",
    "    grid_predictions = best_grid.predict(X_test)\n",
    "\n",
    "    # get the end time\n",
    "    et_wall_inf = time.time()\n",
    "\n",
    "    # get execution time\n",
    "    wall_time_inf = et_wall_inf - st_wall_inf\n",
    "    print(f'Inference Time: {1000*wall_time_inf:.3f} miliseconds')\n",
    "\n",
    "calculate_pred_and_inf_time(best_grid, X_test)"
   ]
  },
  {
   "cell_type": "markdown",
   "metadata": {},
   "source": [
    "## Resampling"
   ]
  },
  {
   "cell_type": "markdown",
   "metadata": {},
   "source": [
    "### SMOTE"
   ]
  },
  {
   "cell_type": "code",
   "execution_count": 26,
   "metadata": {},
   "outputs": [
    {
     "name": "stdout",
     "output_type": "stream",
     "text": [
      "Counter({0: 114988, 1: 15577})\n",
      "Counter({0: 114988, 1: 114988})\n",
      "Confusion Matrix: \n",
      " [[15672  4549]\n",
      " [  908  1912]]\n",
      "Classification Report: \n",
      "               precision    recall  f1-score   support\n",
      "\n",
      "           0       0.95      0.78      0.85     20221\n",
      "           1       0.30      0.68      0.41      2820\n",
      "\n",
      "    accuracy                           0.76     23041\n",
      "   macro avg       0.62      0.73      0.63     23041\n",
      "weighted avg       0.87      0.76      0.80     23041\n",
      "\n",
      "Accuracy:  0.763\n",
      "Precision: 0.296\n",
      "Recall: 0.678\n",
      "f1:  0.412\n",
      "Inference Time: 5194.439 miliseconds\n"
     ]
    }
   ],
   "source": [
    "# Oversample and plot imbalanced dataset with SMOTE\n",
    "\n",
    "# summarize class distribution\n",
    "counter = Counter(y_train)\n",
    "print(counter)\n",
    "# transform the dataset\n",
    "oversample = SMOTE(random_state=42)\n",
    "X_train_rel, y_train_rel = oversample.fit_resample(X_train, y_train)\n",
    "# summarize the new class distribution\n",
    "counter = Counter(y_train_rel)\n",
    "print(counter)\n",
    "\n",
    "fit_and_print(best_grid, X_train_rel, y_train_rel)\n",
    "\n",
    "calculate_pred_and_inf_time(best_grid, X_test)"
   ]
  },
  {
   "cell_type": "markdown",
   "metadata": {},
   "source": [
    "### ADASYN"
   ]
  },
  {
   "cell_type": "code",
   "execution_count": 27,
   "metadata": {},
   "outputs": [
    {
     "name": "stdout",
     "output_type": "stream",
     "text": [
      "Counter({0: 114988, 1: 15577})\n",
      "Counter({1: 119427, 0: 114988})\n",
      "Confusion Matrix: \n",
      " [[14796  5425]\n",
      " [  788  2032]]\n",
      "Classification Report: \n",
      "               precision    recall  f1-score   support\n",
      "\n",
      "           0       0.95      0.73      0.83     20221\n",
      "           1       0.27      0.72      0.40      2820\n",
      "\n",
      "    accuracy                           0.73     23041\n",
      "   macro avg       0.61      0.73      0.61     23041\n",
      "weighted avg       0.87      0.73      0.77     23041\n",
      "\n",
      "Accuracy:  0.73\n",
      "Precision: 0.272\n",
      "Recall: 0.721\n",
      "f1:  0.395\n",
      "Inference Time: 4969.945 miliseconds\n"
     ]
    }
   ],
   "source": [
    "# Oversample and plot imbalanced dataset with ADASYN\n",
    "\n",
    "# summarize class distribution\n",
    "counter = Counter(y_train)\n",
    "print(counter)\n",
    "# transform the dataset\n",
    "oversample = ADASYN(random_state=42)\n",
    "X_train_rel, y_train_rel = oversample.fit_resample(X_train, y_train)\n",
    "# summarize the new class distribution\n",
    "counter = Counter(y_train_rel)\n",
    "print(counter)\n",
    "\n",
    "fit_and_print(best_grid, X_train_rel, y_train_rel)\n",
    "\n",
    "calculate_pred_and_inf_time(best_grid, X_test)"
   ]
  },
  {
   "cell_type": "markdown",
   "metadata": {},
   "source": [
    "### SMOTE and TL"
   ]
  },
  {
   "cell_type": "code",
   "execution_count": 28,
   "metadata": {},
   "outputs": [
    {
     "name": "stdout",
     "output_type": "stream",
     "text": [
      "Counter({0: 114988, 1: 15577})\n",
      "Counter({0: 111748, 1: 111748})\n",
      "Confusion Matrix: \n",
      " [[15643  4578]\n",
      " [  888  1932]]\n",
      "Classification Report: \n",
      "               precision    recall  f1-score   support\n",
      "\n",
      "           0       0.95      0.77      0.85     20221\n",
      "           1       0.30      0.69      0.41      2820\n",
      "\n",
      "    accuracy                           0.76     23041\n",
      "   macro avg       0.62      0.73      0.63     23041\n",
      "weighted avg       0.87      0.76      0.80     23041\n",
      "\n",
      "Accuracy:  0.763\n",
      "Precision: 0.297\n",
      "Recall: 0.685\n",
      "f1:  0.414\n",
      "Inference Time: 5090.069 miliseconds\n"
     ]
    }
   ],
   "source": [
    "# Oversample and plot imbalanced dataset with SMOTE and TL\n",
    "\n",
    "# summarize class distribution\n",
    "counter = Counter(y_train)\n",
    "print(counter)\n",
    "# transform the dataset\n",
    "oversample = SMOTETomek(random_state=42)\n",
    "X_train_rel, y_train_rel = oversample.fit_resample(X_train, y_train)\n",
    "# summarize the new class distribution\n",
    "counter = Counter(y_train_rel)\n",
    "print(counter)\n",
    "\n",
    "fit_and_print(best_grid, X_train_rel, y_train_rel)\n",
    "\n",
    "calculate_pred_and_inf_time(best_grid, X_test)"
   ]
  },
  {
   "cell_type": "markdown",
   "metadata": {},
   "source": [
    "### SMOTE and ENN"
   ]
  },
  {
   "cell_type": "code",
   "execution_count": 29,
   "metadata": {},
   "outputs": [
    {
     "name": "stdout",
     "output_type": "stream",
     "text": [
      "Counter({0: 114988, 1: 15577})\n",
      "Counter({1: 96382, 0: 81992})\n",
      "Confusion Matrix: \n",
      " [[14588  5633]\n",
      " [  705  2115]]\n",
      "Classification Report: \n",
      "               precision    recall  f1-score   support\n",
      "\n",
      "           0       0.95      0.72      0.82     20221\n",
      "           1       0.27      0.75      0.40      2820\n",
      "\n",
      "    accuracy                           0.72     23041\n",
      "   macro avg       0.61      0.74      0.61     23041\n",
      "weighted avg       0.87      0.72      0.77     23041\n",
      "\n",
      "Accuracy:  0.725\n",
      "Precision: 0.273\n",
      "Recall: 0.75\n",
      "f1:  0.4\n",
      "Inference Time: 4632.786 miliseconds\n"
     ]
    }
   ],
   "source": [
    "# Oversample and plot imbalanced dataset with SMOTE and ENN\n",
    "\n",
    "# summarize class distribution\n",
    "counter = Counter(y_train)\n",
    "print(counter)\n",
    "# transform the dataset\n",
    "oversample = SMOTEENN(random_state=42)\n",
    "X_train_rel, y_train_rel = oversample.fit_resample(X_train, y_train)\n",
    "# summarize the new class distribution\n",
    "counter = Counter(y_train_rel)\n",
    "print(counter)\n",
    "\n",
    "fit_and_print(best_grid, X_train_rel, y_train_rel)\n",
    "\n",
    "calculate_pred_and_inf_time(best_grid, X_test)"
   ]
  }
 ],
 "metadata": {
  "kernelspec": {
   "display_name": "Python [conda env:work-asa]",
   "language": "python",
   "name": "conda-env-work-asa-py"
  },
  "language_info": {
   "codemirror_mode": {
    "name": "ipython",
    "version": 3
   },
   "file_extension": ".py",
   "mimetype": "text/x-python",
   "name": "python",
   "nbconvert_exporter": "python",
   "pygments_lexer": "ipython3",
   "version": "3.9.6"
  }
 },
 "nbformat": 4,
 "nbformat_minor": 4
}
