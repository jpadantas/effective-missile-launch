{
 "cells": [
  {
   "cell_type": "markdown",
   "metadata": {},
   "source": [
    "# Artificial Neural Networks"
   ]
  },
  {
   "cell_type": "markdown",
   "metadata": {},
   "source": [
    "## Libraries"
   ]
  },
  {
   "cell_type": "code",
   "execution_count": 1,
   "metadata": {},
   "outputs": [],
   "source": [
    "import pandas as pd\n",
    "import numpy as np\n",
    "import matplotlib.pyplot as plt\n",
    "from sklearn.metrics import accuracy_score, precision_score, recall_score, f1_score, classification_report, confusion_matrix\n",
    "from sklearn.model_selection import GridSearchCV\n",
    "from sklearn.preprocessing import StandardScaler, MinMaxScaler\n",
    "from sklearn.neural_network import MLPClassifier\n",
    "from collections import Counter\n",
    "from imblearn.over_sampling import SMOTE, ADASYN, SMOTENC\n",
    "from imblearn.combine import SMOTETomek, SMOTEENN \n",
    "import matplotlib.pyplot as plt\n",
    "from numpy import where\n",
    "import time"
   ]
  },
  {
   "cell_type": "markdown",
   "metadata": {},
   "source": [
    "## Read the data from csv"
   ]
  },
  {
   "cell_type": "code",
   "execution_count": 2,
   "metadata": {},
   "outputs": [],
   "source": [
    "df_train = pd.read_csv('../data/df_train.csv')\n",
    "df_test = pd.read_csv('../data/df_test.csv')\n",
    "\n",
    "X_train = df_train.drop('kill', axis=1)\n",
    "y_train = df_train['kill']\n",
    "X_test = df_test.drop(['kill'], axis=1)\n",
    "y_test = df_test['kill']\n",
    "\n",
    "X_train = X_train.values\n",
    "y_train = y_train.values\n",
    "X_test = X_test.values\n",
    "y_test = y_test.values"
   ]
  },
  {
   "cell_type": "code",
   "execution_count": 3,
   "metadata": {},
   "outputs": [],
   "source": [
    "scaler = StandardScaler()\n",
    "#scaler = MinMaxScaler()\n",
    "\n",
    "scaler.fit(X_train)\n",
    "\n",
    "X_train = scaler.transform(X_train)\n",
    "X_test = scaler.transform(X_test)"
   ]
  },
  {
   "cell_type": "code",
   "execution_count": 4,
   "metadata": {},
   "outputs": [],
   "source": [
    "model = MLPClassifier(random_state=42)"
   ]
  },
  {
   "cell_type": "code",
   "execution_count": 5,
   "metadata": {},
   "outputs": [
    {
     "data": {
      "text/plain": [
       "MLPClassifier(random_state=42)"
      ]
     },
     "execution_count": 5,
     "metadata": {},
     "output_type": "execute_result"
    }
   ],
   "source": [
    "model.fit(X_train,y_train)"
   ]
  },
  {
   "cell_type": "code",
   "execution_count": 6,
   "metadata": {},
   "outputs": [],
   "source": [
    "predictions = model.predict(X_test)"
   ]
  },
  {
   "cell_type": "code",
   "execution_count": 7,
   "metadata": {},
   "outputs": [],
   "source": [
    "def fit_and_print(model, X_train, y_train):\n",
    "    model.fit(X_train, y_train)  \n",
    "    y_pred = model.predict(X_test)\n",
    "    print(\"Confusion Matrix: \\n\", confusion_matrix(y_test, y_pred))  \n",
    "    print(\"Classification Report: \\n\", classification_report(y_test, y_pred))  \n",
    "    print(\"Accuracy: \", round(accuracy_score(y_test, y_pred),3))\n",
    "    print(\"Precision:\", round(precision_score(y_test, y_pred),3))\n",
    "    print(\"Recall:\", round(recall_score(y_test, y_pred),3))\n",
    "    print(\"f1: \", round(f1_score(y_test, y_pred),3))"
   ]
  },
  {
   "cell_type": "code",
   "execution_count": 8,
   "metadata": {},
   "outputs": [
    {
     "name": "stdout",
     "output_type": "stream",
     "text": [
      "Confusion Matrix: \n",
      " [[19781   440]\n",
      " [ 2111   709]]\n",
      "Classification Report: \n",
      "               precision    recall  f1-score   support\n",
      "\n",
      "           0       0.90      0.98      0.94     20221\n",
      "           1       0.62      0.25      0.36      2820\n",
      "\n",
      "    accuracy                           0.89     23041\n",
      "   macro avg       0.76      0.61      0.65     23041\n",
      "weighted avg       0.87      0.89      0.87     23041\n",
      "\n",
      "Accuracy:  0.889\n",
      "Precision: 0.617\n",
      "Recall: 0.251\n",
      "f1:  0.357\n"
     ]
    }
   ],
   "source": [
    "fit_and_print(model,X_train,y_train)"
   ]
  },
  {
   "cell_type": "markdown",
   "metadata": {
    "tags": []
   },
   "source": [
    "## GridSearch"
   ]
  },
  {
   "cell_type": "code",
   "execution_count": 9,
   "metadata": {},
   "outputs": [],
   "source": [
    "param_grid = {\n",
    "    'learning_rate_init': [0.001, 0.01, 0.1], \n",
    "    'solver': ['sgd', 'adam'],\n",
    "    'alpha': [0.0001, 0.001],\n",
    "    'early_stopping': [True],\n",
    "    'activation': ['logistic', 'tanh', 'relu'],\n",
    "    'max_iter': [1000]\n",
    "     }"
   ]
  },
  {
   "cell_type": "code",
   "execution_count": 10,
   "metadata": {},
   "outputs": [],
   "source": [
    "grid = GridSearchCV(MLPClassifier(random_state=42),param_grid,verbose=2, cv = 5, n_jobs = -1)"
   ]
  },
  {
   "cell_type": "code",
   "execution_count": 11,
   "metadata": {},
   "outputs": [
    {
     "name": "stdout",
     "output_type": "stream",
     "text": [
      "Fitting 5 folds for each of 36 candidates, totalling 180 fits\n"
     ]
    },
    {
     "data": {
      "text/plain": [
       "GridSearchCV(cv=5, estimator=MLPClassifier(random_state=42), n_jobs=-1,\n",
       "             param_grid={'activation': ['logistic', 'tanh', 'relu'],\n",
       "                         'alpha': [0.0001, 0.001], 'early_stopping': [True],\n",
       "                         'learning_rate_init': [0.001, 0.01, 0.1],\n",
       "                         'max_iter': [1000], 'solver': ['sgd', 'adam']},\n",
       "             verbose=2)"
      ]
     },
     "execution_count": 11,
     "metadata": {},
     "output_type": "execute_result"
    }
   ],
   "source": [
    "# May take awhile!\n",
    "grid.fit(X_train,y_train)"
   ]
  },
  {
   "cell_type": "code",
   "execution_count": 12,
   "metadata": {},
   "outputs": [
    {
     "data": {
      "text/plain": [
       "{'activation': 'relu',\n",
       " 'alpha': 0.001,\n",
       " 'early_stopping': True,\n",
       " 'learning_rate_init': 0.01,\n",
       " 'max_iter': 1000,\n",
       " 'solver': 'adam'}"
      ]
     },
     "execution_count": 12,
     "metadata": {},
     "output_type": "execute_result"
    }
   ],
   "source": [
    "grid.best_params_"
   ]
  },
  {
   "cell_type": "code",
   "execution_count": 13,
   "metadata": {},
   "outputs": [
    {
     "data": {
      "text/plain": [
       "MLPClassifier(alpha=0.001, early_stopping=True, learning_rate_init=0.01,\n",
       "              max_iter=1000, random_state=42)"
      ]
     },
     "execution_count": 13,
     "metadata": {},
     "output_type": "execute_result"
    }
   ],
   "source": [
    "best_grid = grid.best_estimator_\n",
    "best_grid"
   ]
  },
  {
   "cell_type": "code",
   "execution_count": 14,
   "metadata": {},
   "outputs": [
    {
     "data": {
      "text/plain": [
       "0.8937693868954162"
      ]
     },
     "execution_count": 14,
     "metadata": {},
     "output_type": "execute_result"
    }
   ],
   "source": [
    "grid.best_score_"
   ]
  },
  {
   "cell_type": "code",
   "execution_count": 15,
   "metadata": {},
   "outputs": [],
   "source": [
    "grid_predictions = grid.predict(X_test)"
   ]
  },
  {
   "cell_type": "code",
   "execution_count": 16,
   "metadata": {},
   "outputs": [
    {
     "name": "stdout",
     "output_type": "stream",
     "text": [
      "Confusion Matrix: \n",
      " [[19857   364]\n",
      " [ 2179   641]]\n",
      "Classification Report: \n",
      "               precision    recall  f1-score   support\n",
      "\n",
      "           0       0.90      0.98      0.94     20221\n",
      "           1       0.64      0.23      0.34      2820\n",
      "\n",
      "    accuracy                           0.89     23041\n",
      "   macro avg       0.77      0.60      0.64     23041\n",
      "weighted avg       0.87      0.89      0.87     23041\n",
      "\n",
      "Accuracy:  0.89\n",
      "Precision: 0.638\n",
      "Recall: 0.227\n",
      "f1:  0.335\n"
     ]
    }
   ],
   "source": [
    "fit_and_print(best_grid,X_train,y_train)"
   ]
  },
  {
   "cell_type": "code",
   "execution_count": 17,
   "metadata": {},
   "outputs": [
    {
     "name": "stdout",
     "output_type": "stream",
     "text": [
      "Confusion Matrix: \n",
      " [[19857   364]\n",
      " [ 2179   641]]\n",
      "Classification Report: \n",
      "               precision    recall  f1-score   support\n",
      "\n",
      "           0       0.90      0.98      0.94     20221\n",
      "           1       0.64      0.23      0.34      2820\n",
      "\n",
      "    accuracy                           0.89     23041\n",
      "   macro avg       0.77      0.60      0.64     23041\n",
      "weighted avg       0.87      0.89      0.87     23041\n",
      "\n",
      "Accuracy:  0.89\n",
      "Precision: 0.638\n",
      "Recall: 0.227\n",
      "f1:  0.335\n"
     ]
    }
   ],
   "source": [
    "fit_and_print(best_grid,X_train,y_train)"
   ]
  },
  {
   "cell_type": "code",
   "execution_count": 18,
   "metadata": {},
   "outputs": [
    {
     "name": "stdout",
     "output_type": "stream",
     "text": [
      "Confusion Matrix: \n",
      " [[19857   364]\n",
      " [ 2179   641]]\n",
      "Classification Report: \n",
      "               precision    recall  f1-score   support\n",
      "\n",
      "           0       0.90      0.98      0.94     20221\n",
      "           1       0.64      0.23      0.34      2820\n",
      "\n",
      "    accuracy                           0.89     23041\n",
      "   macro avg       0.77      0.60      0.64     23041\n",
      "weighted avg       0.87      0.89      0.87     23041\n",
      "\n",
      "Accuracy:  0.89\n",
      "Precision: 0.638\n",
      "Recall: 0.227\n",
      "f1:  0.335\n"
     ]
    }
   ],
   "source": [
    "fit_and_print(best_grid,X_train,y_train)"
   ]
  },
  {
   "cell_type": "code",
   "execution_count": 19,
   "metadata": {},
   "outputs": [
    {
     "name": "stdout",
     "output_type": "stream",
     "text": [
      "Inference Time: 116.641 miliseconds\n"
     ]
    }
   ],
   "source": [
    "def calculate_pred_and_inf_time(best_grid, X_test):\n",
    "    # get the start time\n",
    "    st_wall_inf = time.time()\n",
    "\n",
    "    # Generate generalization metrics\n",
    "    grid_predictions = best_grid.predict(X_test)\n",
    "\n",
    "    # get the end time\n",
    "    et_wall_inf = time.time()\n",
    "\n",
    "    # get execution time\n",
    "    wall_time_inf = et_wall_inf - st_wall_inf\n",
    "    print(f'Inference Time: {1000*wall_time_inf:.3f} miliseconds')\n",
    "\n",
    "calculate_pred_and_inf_time(best_grid, X_test)"
   ]
  },
  {
   "cell_type": "markdown",
   "metadata": {},
   "source": [
    "## Resampling"
   ]
  },
  {
   "cell_type": "markdown",
   "metadata": {},
   "source": [
    "### SMOTE"
   ]
  },
  {
   "cell_type": "code",
   "execution_count": 20,
   "metadata": {},
   "outputs": [
    {
     "name": "stdout",
     "output_type": "stream",
     "text": [
      "Counter({0: 114988, 1: 15577})\n",
      "Counter({0: 114988, 1: 114988})\n",
      "[CV] END activation=logistic, alpha=0.0001, early_stopping=True, learning_rate_init=0.01, max_iter=1000, solver=adam; total time= 1.2min\n",
      "[CV] END activation=tanh, alpha=0.0001, early_stopping=True, learning_rate_init=0.01, max_iter=1000, solver=sgd; total time= 1.1min\n",
      "[CV] END activation=tanh, alpha=0.001, early_stopping=True, learning_rate_init=0.01, max_iter=1000, solver=sgd; total time=  49.9s\n",
      "[CV] END activation=relu, alpha=0.0001, early_stopping=True, learning_rate_init=0.001, max_iter=1000, solver=adam; total time= 1.8min\n",
      "[CV] END activation=logistic, alpha=0.001, early_stopping=True, learning_rate_init=0.001, max_iter=1000, solver=sgd; total time=  29.2s\n",
      "[CV] END activation=logistic, alpha=0.001, early_stopping=True, learning_rate_init=0.01, max_iter=1000, solver=sgd; total time=  34.1s\n",
      "[CV] END activation=logistic, alpha=0.001, early_stopping=True, learning_rate_init=0.1, max_iter=1000, solver=adam; total time=  35.8s\n",
      "[CV] END activation=tanh, alpha=0.0001, early_stopping=True, learning_rate_init=0.1, max_iter=1000, solver=sgd; total time= 1.5min\n",
      "[CV] END activation=relu, alpha=0.0001, early_stopping=True, learning_rate_init=0.01, max_iter=1000, solver=sgd; total time=  41.6s\n",
      "[CV] END activation=relu, alpha=0.0001, early_stopping=True, learning_rate_init=0.1, max_iter=1000, solver=sgd; total time=  58.8s\n",
      "[CV] END activation=logistic, alpha=0.001, early_stopping=True, learning_rate_init=0.001, max_iter=1000, solver=sgd; total time=  28.0s\n",
      "[CV] END activation=logistic, alpha=0.001, early_stopping=True, learning_rate_init=0.01, max_iter=1000, solver=sgd; total time=  39.5s\n",
      "[CV] END activation=tanh, alpha=0.0001, early_stopping=True, learning_rate_init=0.001, max_iter=1000, solver=adam; total time= 1.9min\n",
      "[CV] END activation=relu, alpha=0.0001, early_stopping=True, learning_rate_init=0.001, max_iter=1000, solver=adam; total time= 1.9min\n",
      "Confusion Matrix: \n",
      " [[15559  4662]\n",
      " [  746  2074]]\n",
      "Classification Report: \n",
      "               precision    recall  f1-score   support\n",
      "\n",
      "           0       0.95      0.77      0.85     20221\n",
      "           1       0.31      0.74      0.43      2820\n",
      "\n",
      "    accuracy                           0.77     23041\n",
      "   macro avg       0.63      0.75      0.64     23041\n",
      "weighted avg       0.88      0.77      0.80     23041\n",
      "\n",
      "Accuracy:  0.765\n",
      "Precision: 0.308\n",
      "Recall: 0.735\n",
      "f1:  0.434\n",
      "Inference Time: 94.443 miliseconds\n"
     ]
    }
   ],
   "source": [
    "# Oversample and plot imbalanced dataset with SMOTE\n",
    "\n",
    "# summarize class distribution\n",
    "counter = Counter(y_train)\n",
    "print(counter)\n",
    "# transform the dataset\n",
    "oversample = SMOTE(random_state=42)\n",
    "X_train_rel, y_train_rel = oversample.fit_resample(X_train, y_train)\n",
    "# summarize the new class distribution\n",
    "counter = Counter(y_train_rel)\n",
    "print(counter)\n",
    "\n",
    "fit_and_print(best_grid, X_train_rel, y_train_rel)\n",
    "\n",
    "calculate_pred_and_inf_time(best_grid, X_test)"
   ]
  },
  {
   "cell_type": "markdown",
   "metadata": {},
   "source": [
    "### ADASYN"
   ]
  },
  {
   "cell_type": "code",
   "execution_count": 21,
   "metadata": {},
   "outputs": [
    {
     "name": "stdout",
     "output_type": "stream",
     "text": [
      "Counter({0: 114988, 1: 15577})\n",
      "[CV] END activation=logistic, alpha=0.0001, early_stopping=True, learning_rate_init=0.01, max_iter=1000, solver=adam; total time= 1.1min\n",
      "[CV] END activation=tanh, alpha=0.0001, early_stopping=True, learning_rate_init=0.001, max_iter=1000, solver=adam; total time= 1.9min\n",
      "[CV] END activation=relu, alpha=0.0001, early_stopping=True, learning_rate_init=0.001, max_iter=1000, solver=sgd; total time= 1.9min\n",
      "[CV] END activation=logistic, alpha=0.0001, early_stopping=True, learning_rate_init=0.001, max_iter=1000, solver=adam; total time= 1.1min\n",
      "[CV] END activation=tanh, alpha=0.0001, early_stopping=True, learning_rate_init=0.001, max_iter=1000, solver=adam; total time= 2.0min\n",
      "[CV] END activation=relu, alpha=0.0001, early_stopping=True, learning_rate_init=0.001, max_iter=1000, solver=adam; total time= 1.8min\n",
      "[CV] END activation=logistic, alpha=0.0001, early_stopping=True, learning_rate_init=0.01, max_iter=1000, solver=sgd; total time= 1.0min\n",
      "[CV] END activation=logistic, alpha=0.001, early_stopping=True, learning_rate_init=0.1, max_iter=1000, solver=adam; total time=  48.6s\n",
      "[CV] END activation=tanh, alpha=0.001, early_stopping=True, learning_rate_init=0.001, max_iter=1000, solver=sgd; total time= 1.8min\n",
      "[CV] END activation=relu, alpha=0.0001, early_stopping=True, learning_rate_init=0.01, max_iter=1000, solver=adam; total time=  51.2s\n",
      "[CV] END activation=relu, alpha=0.001, early_stopping=True, learning_rate_init=0.01, max_iter=1000, solver=sgd; total time=  35.7s\n",
      "[CV] END activation=logistic, alpha=0.0001, early_stopping=True, learning_rate_init=0.001, max_iter=1000, solver=adam; total time= 1.1min\n",
      "[CV] END activation=tanh, alpha=0.0001, early_stopping=True, learning_rate_init=0.001, max_iter=1000, solver=sgd; total time= 3.9min\n",
      "[CV] END activation=logistic, alpha=0.0001, early_stopping=True, learning_rate_init=0.001, max_iter=1000, solver=sgd; total time=  28.2s\n",
      "[CV] END activation=logistic, alpha=0.001, early_stopping=True, learning_rate_init=0.01, max_iter=1000, solver=sgd; total time=  44.5s\n",
      "[CV] END activation=tanh, alpha=0.0001, early_stopping=True, learning_rate_init=0.01, max_iter=1000, solver=sgd; total time= 2.1min\n",
      "[CV] END activation=relu, alpha=0.0001, early_stopping=True, learning_rate_init=0.01, max_iter=1000, solver=sgd; total time= 1.0min\n",
      "[CV] END activation=relu, alpha=0.001, early_stopping=True, learning_rate_init=0.01, max_iter=1000, solver=sgd; total time=  40.9s\n",
      "[CV] END activation=logistic, alpha=0.0001, early_stopping=True, learning_rate_init=0.1, max_iter=1000, solver=sgd; total time= 1.1min\n",
      "[CV] END activation=tanh, alpha=0.0001, early_stopping=True, learning_rate_init=0.001, max_iter=1000, solver=sgd; total time=  44.0s\n",
      "[CV] END activation=tanh, alpha=0.001, early_stopping=True, learning_rate_init=0.001, max_iter=1000, solver=sgd; total time=  42.7s\n",
      "[CV] END activation=tanh, alpha=0.001, early_stopping=True, learning_rate_init=0.01, max_iter=1000, solver=adam; total time= 1.4min\n",
      "[CV] END activation=relu, alpha=0.0001, early_stopping=True, learning_rate_init=0.1, max_iter=1000, solver=adam; total time= 1.1min\n",
      "Counter({1: 119427, 0: 114988})\n",
      "[CV] END activation=logistic, alpha=0.0001, early_stopping=True, learning_rate_init=0.01, max_iter=1000, solver=sgd; total time=  43.0s\n",
      "[CV] END activation=logistic, alpha=0.001, early_stopping=True, learning_rate_init=0.1, max_iter=1000, solver=sgd; total time=  55.3s\n",
      "[CV] END activation=tanh, alpha=0.0001, early_stopping=True, learning_rate_init=0.1, max_iter=1000, solver=sgd; total time= 1.2min\n",
      "[CV] END activation=tanh, alpha=0.001, early_stopping=True, learning_rate_init=0.1, max_iter=1000, solver=adam; total time= 1.1min\n",
      "[CV] END activation=relu, alpha=0.0001, early_stopping=True, learning_rate_init=0.1, max_iter=1000, solver=adam; total time=  44.8s\n",
      "[CV] END activation=relu, alpha=0.001, early_stopping=True, learning_rate_init=0.01, max_iter=1000, solver=adam; total time=  29.8s\n",
      "[CV] END activation=logistic, alpha=0.0001, early_stopping=True, learning_rate_init=0.001, max_iter=1000, solver=sgd; total time=  30.6s\n",
      "[CV] END activation=logistic, alpha=0.001, early_stopping=True, learning_rate_init=0.01, max_iter=1000, solver=adam; total time= 1.8min\n",
      "[CV] END activation=tanh, alpha=0.001, early_stopping=True, learning_rate_init=0.01, max_iter=1000, solver=sgd; total time= 2.2min\n",
      "[CV] END activation=relu, alpha=0.001, early_stopping=True, learning_rate_init=0.01, max_iter=1000, solver=sgd; total time=  45.0s\n",
      "[CV] END activation=logistic, alpha=0.0001, early_stopping=True, learning_rate_init=0.001, max_iter=1000, solver=sgd; total time=  30.4s\n",
      "[CV] END activation=logistic, alpha=0.001, early_stopping=True, learning_rate_init=0.01, max_iter=1000, solver=adam; total time= 1.3min\n",
      "[CV] END activation=tanh, alpha=0.0001, early_stopping=True, learning_rate_init=0.1, max_iter=1000, solver=adam; total time= 1.6min\n",
      "[CV] END activation=relu, alpha=0.0001, early_stopping=True, learning_rate_init=0.01, max_iter=1000, solver=sgd; total time= 1.3min\n",
      "[CV] END activation=relu, alpha=0.001, early_stopping=True, learning_rate_init=0.1, max_iter=1000, solver=sgd; total time=  32.7s\n",
      "[CV] END activation=logistic, alpha=0.0001, early_stopping=True, learning_rate_init=0.001, max_iter=1000, solver=sgd; total time=  30.6s\n",
      "[CV] END activation=logistic, alpha=0.001, early_stopping=True, learning_rate_init=0.01, max_iter=1000, solver=adam; total time= 2.1min\n",
      "[CV] END activation=tanh, alpha=0.001, early_stopping=True, learning_rate_init=0.1, max_iter=1000, solver=sgd; total time=  46.1s\n",
      "[CV] END activation=relu, alpha=0.0001, early_stopping=True, learning_rate_init=0.01, max_iter=1000, solver=sgd; total time= 1.4min\n",
      "[CV] END activation=relu, alpha=0.001, early_stopping=True, learning_rate_init=0.1, max_iter=1000, solver=adam; total time=  31.1s\n",
      "[CV] END activation=logistic, alpha=0.001, early_stopping=True, learning_rate_init=0.001, max_iter=1000, solver=sgd; total time=  28.3s\n",
      "[CV] END activation=logistic, alpha=0.001, early_stopping=True, learning_rate_init=0.01, max_iter=1000, solver=sgd; total time= 1.0min\n",
      "[CV] END activation=tanh, alpha=0.0001, early_stopping=True, learning_rate_init=0.1, max_iter=1000, solver=sgd; total time= 1.6min\n",
      "[CV] END activation=relu, alpha=0.0001, early_stopping=True, learning_rate_init=0.001, max_iter=1000, solver=adam; total time= 2.2min\n",
      "[CV] END activation=logistic, alpha=0.0001, early_stopping=True, learning_rate_init=0.001, max_iter=1000, solver=sgd; total time=  28.0s\n",
      "[CV] END activation=logistic, alpha=0.001, early_stopping=True, learning_rate_init=0.01, max_iter=1000, solver=sgd; total time=  43.3s\n",
      "[CV] END activation=tanh, alpha=0.0001, early_stopping=True, learning_rate_init=0.01, max_iter=1000, solver=sgd; total time=  52.5s\n",
      "[CV] END activation=tanh, alpha=0.001, early_stopping=True, learning_rate_init=0.001, max_iter=1000, solver=adam; total time= 1.8min\n",
      "[CV] END activation=relu, alpha=0.0001, early_stopping=True, learning_rate_init=0.1, max_iter=1000, solver=sgd; total time= 1.5min\n",
      "[CV] END activation=logistic, alpha=0.0001, early_stopping=True, learning_rate_init=0.01, max_iter=1000, solver=adam; total time= 1.4min\n",
      "[CV] END activation=tanh, alpha=0.0001, early_stopping=True, learning_rate_init=0.1, max_iter=1000, solver=sgd; total time= 1.1min\n",
      "[CV] END activation=tanh, alpha=0.001, early_stopping=True, learning_rate_init=0.1, max_iter=1000, solver=sgd; total time=  58.4s\n",
      "[CV] END activation=relu, alpha=0.0001, early_stopping=True, learning_rate_init=0.01, max_iter=1000, solver=adam; total time=  58.5s\n",
      "[CV] END activation=relu, alpha=0.001, early_stopping=True, learning_rate_init=0.01, max_iter=1000, solver=adam; total time=  45.9s\n",
      "[CV] END activation=logistic, alpha=0.0001, early_stopping=True, learning_rate_init=0.1, max_iter=1000, solver=sgd; total time=  46.1s\n",
      "[CV] END activation=logistic, alpha=0.001, early_stopping=True, learning_rate_init=0.1, max_iter=1000, solver=sgd; total time= 1.1min\n",
      "[CV] END activation=tanh, alpha=0.001, early_stopping=True, learning_rate_init=0.001, max_iter=1000, solver=adam; total time= 2.1min\n",
      "[CV] END activation=relu, alpha=0.001, early_stopping=True, learning_rate_init=0.001, max_iter=1000, solver=sgd; total time= 1.3min\n",
      "[CV] END activation=logistic, alpha=0.0001, early_stopping=True, learning_rate_init=0.1, max_iter=1000, solver=adam; total time= 1.6min\n",
      "[CV] END activation=tanh, alpha=0.0001, early_stopping=True, learning_rate_init=0.1, max_iter=1000, solver=sgd; total time=  46.7s\n",
      "[CV] END activation=tanh, alpha=0.001, early_stopping=True, learning_rate_init=0.01, max_iter=1000, solver=sgd; total time= 2.0min\n",
      "[CV] END activation=relu, alpha=0.001, early_stopping=True, learning_rate_init=0.001, max_iter=1000, solver=adam; total time= 1.1min\n",
      "[CV] END activation=logistic, alpha=0.001, early_stopping=True, learning_rate_init=0.001, max_iter=1000, solver=adam; total time= 1.8min\n",
      "[CV] END activation=tanh, alpha=0.0001, early_stopping=True, learning_rate_init=0.1, max_iter=1000, solver=adam; total time=  41.5s\n",
      "[CV] END activation=tanh, alpha=0.001, early_stopping=True, learning_rate_init=0.01, max_iter=1000, solver=adam; total time= 1.4min\n",
      "[CV] END activation=relu, alpha=0.0001, early_stopping=True, learning_rate_init=0.1, max_iter=1000, solver=adam; total time=  40.3s\n",
      "[CV] END activation=relu, alpha=0.001, early_stopping=True, learning_rate_init=0.01, max_iter=1000, solver=adam; total time=  51.9s\n",
      "[CV] END activation=logistic, alpha=0.0001, early_stopping=True, learning_rate_init=0.01, max_iter=1000, solver=adam; total time= 1.1min\n",
      "[CV] END activation=tanh, alpha=0.0001, early_stopping=True, learning_rate_init=0.001, max_iter=1000, solver=sgd; total time=  45.5s\n",
      "[CV] END activation=tanh, alpha=0.001, early_stopping=True, learning_rate_init=0.001, max_iter=1000, solver=sgd; total time= 1.1min\n",
      "[CV] END activation=tanh, alpha=0.001, early_stopping=True, learning_rate_init=0.1, max_iter=1000, solver=adam; total time= 1.2min\n",
      "[CV] END activation=relu, alpha=0.001, early_stopping=True, learning_rate_init=0.001, max_iter=1000, solver=sgd; total time= 1.4min\n",
      "[CV] END activation=logistic, alpha=0.0001, early_stopping=True, learning_rate_init=0.1, max_iter=1000, solver=adam; total time= 1.1min\n",
      "[CV] END activation=logistic, alpha=0.001, early_stopping=True, learning_rate_init=0.1, max_iter=1000, solver=adam; total time= 1.0min\n",
      "[CV] END activation=tanh, alpha=0.001, early_stopping=True, learning_rate_init=0.01, max_iter=1000, solver=sgd; total time=  59.9s\n",
      "[CV] END activation=relu, alpha=0.0001, early_stopping=True, learning_rate_init=0.001, max_iter=1000, solver=adam; total time= 1.7min\n",
      "[CV] END activation=relu, alpha=0.001, early_stopping=True, learning_rate_init=0.1, max_iter=1000, solver=sgd; total time=  44.5s\n",
      "[CV] END activation=logistic, alpha=0.001, early_stopping=True, learning_rate_init=0.001, max_iter=1000, solver=adam; total time= 1.2min\n",
      "[CV] END activation=tanh, alpha=0.0001, early_stopping=True, learning_rate_init=0.001, max_iter=1000, solver=adam; total time= 1.8min\n",
      "[CV] END activation=relu, alpha=0.0001, early_stopping=True, learning_rate_init=0.001, max_iter=1000, solver=sgd; total time= 1.7min\n",
      "[CV] END activation=relu, alpha=0.001, early_stopping=True, learning_rate_init=0.1, max_iter=1000, solver=sgd; total time=  47.6s\n",
      "[CV] END activation=logistic, alpha=0.001, early_stopping=True, learning_rate_init=0.001, max_iter=1000, solver=adam; total time= 1.1min\n",
      "[CV] END activation=tanh, alpha=0.0001, early_stopping=True, learning_rate_init=0.001, max_iter=1000, solver=sgd; total time= 1.6min\n",
      "[CV] END activation=tanh, alpha=0.001, early_stopping=True, learning_rate_init=0.1, max_iter=1000, solver=sgd; total time= 1.3min\n",
      "[CV] END activation=relu, alpha=0.0001, early_stopping=True, learning_rate_init=0.1, max_iter=1000, solver=adam; total time=  51.0s\n",
      "[CV] END activation=relu, alpha=0.001, early_stopping=True, learning_rate_init=0.1, max_iter=1000, solver=adam; total time=  43.4s\n",
      "[CV] END activation=logistic, alpha=0.0001, early_stopping=True, learning_rate_init=0.001, max_iter=1000, solver=adam; total time= 1.8min\n",
      "[CV] END activation=tanh, alpha=0.0001, early_stopping=True, learning_rate_init=0.1, max_iter=1000, solver=adam; total time=  36.6s\n",
      "[CV] END activation=tanh, alpha=0.001, early_stopping=True, learning_rate_init=0.01, max_iter=1000, solver=adam; total time= 1.1min\n",
      "[CV] END activation=relu, alpha=0.0001, early_stopping=True, learning_rate_init=0.01, max_iter=1000, solver=adam; total time= 1.2min\n",
      "[CV] END activation=relu, alpha=0.001, early_stopping=True, learning_rate_init=0.1, max_iter=1000, solver=sgd; total time=  48.9s\n",
      "[CV] END activation=logistic, alpha=0.001, early_stopping=True, learning_rate_init=0.001, max_iter=1000, solver=adam; total time= 1.3min\n",
      "[CV] END activation=tanh, alpha=0.0001, early_stopping=True, learning_rate_init=0.01, max_iter=1000, solver=adam; total time= 1.5min\n",
      "[CV] END activation=tanh, alpha=0.001, early_stopping=True, learning_rate_init=0.1, max_iter=1000, solver=adam; total time= 1.2min\n",
      "[CV] END activation=relu, alpha=0.001, early_stopping=True, learning_rate_init=0.001, max_iter=1000, solver=sgd; total time= 1.6min\n",
      "[CV] END activation=logistic, alpha=0.0001, early_stopping=True, learning_rate_init=0.1, max_iter=1000, solver=sgd; total time=  59.1s\n",
      "[CV] END activation=logistic, alpha=0.001, early_stopping=True, learning_rate_init=0.1, max_iter=1000, solver=adam; total time=  53.8s\n",
      "[CV] END activation=tanh, alpha=0.001, early_stopping=True, learning_rate_init=0.001, max_iter=1000, solver=sgd; total time= 3.7min\n",
      "[CV] END activation=logistic, alpha=0.0001, early_stopping=True, learning_rate_init=0.1, max_iter=1000, solver=adam; total time= 1.3min\n",
      "[CV] END activation=tanh, alpha=0.0001, early_stopping=True, learning_rate_init=0.01, max_iter=1000, solver=adam; total time= 1.7min\n",
      "[CV] END activation=relu, alpha=0.0001, early_stopping=True, learning_rate_init=0.001, max_iter=1000, solver=sgd; total time= 1.8min\n",
      "[CV] END activation=relu, alpha=0.001, early_stopping=True, learning_rate_init=0.1, max_iter=1000, solver=adam; total time=  47.0s\n",
      "[CV] END activation=logistic, alpha=0.001, early_stopping=True, learning_rate_init=0.001, max_iter=1000, solver=sgd; total time=  30.1s\n",
      "[CV] END activation=logistic, alpha=0.001, early_stopping=True, learning_rate_init=0.01, max_iter=1000, solver=adam; total time= 1.3min\n",
      "[CV] END activation=tanh, alpha=0.0001, early_stopping=True, learning_rate_init=0.1, max_iter=1000, solver=adam; total time= 1.0min\n",
      "[CV] END activation=tanh, alpha=0.001, early_stopping=True, learning_rate_init=0.1, max_iter=1000, solver=adam; total time= 1.7min\n",
      "[CV] END activation=relu, alpha=0.001, early_stopping=True, learning_rate_init=0.01, max_iter=1000, solver=sgd; total time= 1.1min\n",
      "[CV] END activation=logistic, alpha=0.0001, early_stopping=True, learning_rate_init=0.1, max_iter=1000, solver=adam; total time= 1.0min\n",
      "[CV] END activation=logistic, alpha=0.001, early_stopping=True, learning_rate_init=0.1, max_iter=1000, solver=adam; total time= 1.1min\n",
      "[CV] END activation=tanh, alpha=0.001, early_stopping=True, learning_rate_init=0.001, max_iter=1000, solver=adam; total time= 1.8min\n",
      "[CV] END activation=relu, alpha=0.0001, early_stopping=True, learning_rate_init=0.1, max_iter=1000, solver=adam; total time=  51.5s\n",
      "[CV] END activation=relu, alpha=0.001, early_stopping=True, learning_rate_init=0.1, max_iter=1000, solver=adam; total time=  51.1s\n",
      "[CV] END activation=logistic, alpha=0.0001, early_stopping=True, learning_rate_init=0.1, max_iter=1000, solver=sgd; total time= 1.3min\n",
      "[CV] END activation=tanh, alpha=0.0001, early_stopping=True, learning_rate_init=0.01, max_iter=1000, solver=adam; total time= 1.7min\n",
      "[CV] END activation=relu, alpha=0.0001, early_stopping=True, learning_rate_init=0.001, max_iter=1000, solver=sgd; total time= 1.8min\n",
      "[CV] END activation=relu, alpha=0.001, early_stopping=True, learning_rate_init=0.1, max_iter=1000, solver=adam; total time=  48.6s\n",
      "[CV] END activation=logistic, alpha=0.001, early_stopping=True, learning_rate_init=0.001, max_iter=1000, solver=adam; total time= 1.4min\n",
      "[CV] END activation=tanh, alpha=0.0001, early_stopping=True, learning_rate_init=0.01, max_iter=1000, solver=adam; total time= 1.3min\n",
      "[CV] END activation=tanh, alpha=0.001, early_stopping=True, learning_rate_init=0.1, max_iter=1000, solver=sgd; total time= 1.1min\n",
      "[CV] END activation=relu, alpha=0.0001, early_stopping=True, learning_rate_init=0.1, max_iter=1000, solver=sgd; total time=  43.0s\n",
      "[CV] END activation=relu, alpha=0.001, early_stopping=True, learning_rate_init=0.01, max_iter=1000, solver=sgd; total time= 1.1min\n",
      "[CV] END activation=logistic, alpha=0.0001, early_stopping=True, learning_rate_init=0.01, max_iter=1000, solver=sgd; total time=  37.8s\n",
      "[CV] END activation=logistic, alpha=0.001, early_stopping=True, learning_rate_init=0.1, max_iter=1000, solver=sgd; total time=  48.9s\n",
      "[CV] END activation=tanh, alpha=0.0001, early_stopping=True, learning_rate_init=0.01, max_iter=1000, solver=adam; total time= 1.0min\n",
      "[CV] END activation=tanh, alpha=0.001, early_stopping=True, learning_rate_init=0.01, max_iter=1000, solver=adam; total time= 1.6min\n",
      "[CV] END activation=relu, alpha=0.001, early_stopping=True, learning_rate_init=0.001, max_iter=1000, solver=sgd; total time= 1.6min\n",
      "[CV] END activation=logistic, alpha=0.0001, early_stopping=True, learning_rate_init=0.01, max_iter=1000, solver=sgd; total time=  37.6s\n",
      "[CV] END activation=logistic, alpha=0.001, early_stopping=True, learning_rate_init=0.1, max_iter=1000, solver=sgd; total time= 1.9min\n",
      "[CV] END activation=tanh, alpha=0.001, early_stopping=True, learning_rate_init=0.1, max_iter=1000, solver=sgd; total time= 1.2min\n",
      "[CV] END activation=relu, alpha=0.0001, early_stopping=True, learning_rate_init=0.1, max_iter=1000, solver=sgd; total time=  40.2s\n",
      "[CV] END activation=relu, alpha=0.001, early_stopping=True, learning_rate_init=0.001, max_iter=1000, solver=adam; total time= 1.3min\n",
      "[CV] END activation=logistic, alpha=0.0001, early_stopping=True, learning_rate_init=0.001, max_iter=1000, solver=adam; total time= 1.3min\n",
      "[CV] END activation=tanh, alpha=0.0001, early_stopping=True, learning_rate_init=0.01, max_iter=1000, solver=sgd; total time= 2.2min\n",
      "[CV] END activation=relu, alpha=0.0001, early_stopping=True, learning_rate_init=0.01, max_iter=1000, solver=adam; total time= 1.2min\n",
      "[CV] END activation=relu, alpha=0.001, early_stopping=True, learning_rate_init=0.01, max_iter=1000, solver=adam; total time= 1.0min\n",
      "[CV] END activation=logistic, alpha=0.0001, early_stopping=True, learning_rate_init=0.001, max_iter=1000, solver=adam; total time= 1.2min\n",
      "[CV] END activation=tanh, alpha=0.0001, early_stopping=True, learning_rate_init=0.01, max_iter=1000, solver=sgd; total time=  49.5s\n",
      "[CV] END activation=tanh, alpha=0.001, early_stopping=True, learning_rate_init=0.001, max_iter=1000, solver=adam; total time= 2.6min\n",
      "[CV] END activation=relu, alpha=0.001, early_stopping=True, learning_rate_init=0.01, max_iter=1000, solver=adam; total time= 1.2min\n",
      "[CV] END activation=logistic, alpha=0.0001, early_stopping=True, learning_rate_init=0.01, max_iter=1000, solver=adam; total time= 1.1min\n",
      "[CV] END activation=tanh, alpha=0.0001, early_stopping=True, learning_rate_init=0.001, max_iter=1000, solver=sgd; total time= 1.1min\n",
      "[CV] END activation=tanh, alpha=0.001, early_stopping=True, learning_rate_init=0.01, max_iter=1000, solver=sgd; total time= 1.1min\n",
      "[CV] END activation=relu, alpha=0.0001, early_stopping=True, learning_rate_init=0.01, max_iter=1000, solver=sgd; total time=  59.9s\n",
      "[CV] END activation=relu, alpha=0.001, early_stopping=True, learning_rate_init=0.001, max_iter=1000, solver=adam; total time= 1.5min\n",
      "[CV] END activation=logistic, alpha=0.0001, early_stopping=True, learning_rate_init=0.01, max_iter=1000, solver=sgd; total time=  42.4s\n",
      "[CV] END activation=logistic, alpha=0.001, early_stopping=True, learning_rate_init=0.1, max_iter=1000, solver=sgd; total time= 1.1min\n",
      "[CV] END activation=tanh, alpha=0.001, early_stopping=True, learning_rate_init=0.001, max_iter=1000, solver=sgd; total time=  43.9s\n",
      "[CV] END activation=tanh, alpha=0.001, early_stopping=True, learning_rate_init=0.01, max_iter=1000, solver=adam; total time= 1.1min\n",
      "[CV] END activation=relu, alpha=0.0001, early_stopping=True, learning_rate_init=0.01, max_iter=1000, solver=adam; total time=  40.3s\n",
      "[CV] END activation=relu, alpha=0.001, early_stopping=True, learning_rate_init=0.001, max_iter=1000, solver=adam; total time= 1.5min\n",
      "[CV] END activation=logistic, alpha=0.001, early_stopping=True, learning_rate_init=0.001, max_iter=1000, solver=sgd; total time=  29.5s\n",
      "[CV] END activation=logistic, alpha=0.001, early_stopping=True, learning_rate_init=0.01, max_iter=1000, solver=adam; total time= 1.5min\n",
      "[CV] END activation=tanh, alpha=0.001, early_stopping=True, learning_rate_init=0.001, max_iter=1000, solver=adam; total time= 1.9min\n",
      "[CV] END activation=relu, alpha=0.0001, early_stopping=True, learning_rate_init=0.1, max_iter=1000, solver=sgd; total time=  48.3s\n",
      "[CV] END activation=relu, alpha=0.001, early_stopping=True, learning_rate_init=0.1, max_iter=1000, solver=sgd; total time= 1.1min\n",
      "[CV] END activation=logistic, alpha=0.0001, early_stopping=True, learning_rate_init=0.1, max_iter=1000, solver=adam; total time= 1.7min\n",
      "[CV] END activation=tanh, alpha=0.0001, early_stopping=True, learning_rate_init=0.1, max_iter=1000, solver=adam; total time= 1.2min\n",
      "[CV] END activation=relu, alpha=0.0001, early_stopping=True, learning_rate_init=0.001, max_iter=1000, solver=sgd; total time= 1.2min\n",
      "[CV] END activation=relu, alpha=0.001, early_stopping=True, learning_rate_init=0.001, max_iter=1000, solver=sgd; total time= 1.7min\n",
      "[CV] END activation=logistic, alpha=0.0001, early_stopping=True, learning_rate_init=0.1, max_iter=1000, solver=sgd; total time= 1.2min\n",
      "[CV] END activation=tanh, alpha=0.0001, early_stopping=True, learning_rate_init=0.001, max_iter=1000, solver=adam; total time= 1.7min\n",
      "[CV] END activation=tanh, alpha=0.001, early_stopping=True, learning_rate_init=0.1, max_iter=1000, solver=adam; total time= 1.3min\n",
      "[CV] END activation=relu, alpha=0.001, early_stopping=True, learning_rate_init=0.001, max_iter=1000, solver=adam; total time= 1.7min\n",
      "Confusion Matrix: \n",
      " [[13906  6315]\n",
      " [  524  2296]]\n",
      "Classification Report: \n",
      "               precision    recall  f1-score   support\n",
      "\n",
      "           0       0.96      0.69      0.80     20221\n",
      "           1       0.27      0.81      0.40      2820\n",
      "\n",
      "    accuracy                           0.70     23041\n",
      "   macro avg       0.62      0.75      0.60     23041\n",
      "weighted avg       0.88      0.70      0.75     23041\n",
      "\n",
      "Accuracy:  0.703\n",
      "Precision: 0.267\n",
      "Recall: 0.814\n",
      "f1:  0.402\n",
      "Inference Time: 163.139 miliseconds\n"
     ]
    }
   ],
   "source": [
    "# Oversample and plot imbalanced dataset with ADASYN\n",
    "\n",
    "# summarize class distribution\n",
    "counter = Counter(y_train)\n",
    "print(counter)\n",
    "# transform the dataset\n",
    "oversample = ADASYN(random_state=42)\n",
    "X_train_rel, y_train_rel = oversample.fit_resample(X_train, y_train)\n",
    "# summarize the new class distribution\n",
    "counter = Counter(y_train_rel)\n",
    "print(counter)\n",
    "\n",
    "fit_and_print(best_grid, X_train_rel, y_train_rel)\n",
    "\n",
    "calculate_pred_and_inf_time(best_grid, X_test)"
   ]
  },
  {
   "cell_type": "markdown",
   "metadata": {},
   "source": [
    "### SMOTE and TL"
   ]
  },
  {
   "cell_type": "code",
   "execution_count": 22,
   "metadata": {},
   "outputs": [
    {
     "name": "stdout",
     "output_type": "stream",
     "text": [
      "Counter({0: 114988, 1: 15577})\n",
      "Counter({0: 111748, 1: 111748})\n",
      "Confusion Matrix: \n",
      " [[15338  4883]\n",
      " [  723  2097]]\n",
      "Classification Report: \n",
      "               precision    recall  f1-score   support\n",
      "\n",
      "           0       0.95      0.76      0.85     20221\n",
      "           1       0.30      0.74      0.43      2820\n",
      "\n",
      "    accuracy                           0.76     23041\n",
      "   macro avg       0.63      0.75      0.64     23041\n",
      "weighted avg       0.87      0.76      0.79     23041\n",
      "\n",
      "Accuracy:  0.757\n",
      "Precision: 0.3\n",
      "Recall: 0.744\n",
      "f1:  0.428\n",
      "Inference Time: 157.001 miliseconds\n"
     ]
    }
   ],
   "source": [
    "# Oversample and plot imbalanced dataset with SMOTE and TL\n",
    "\n",
    "# summarize class distribution\n",
    "counter = Counter(y_train)\n",
    "print(counter)\n",
    "# transform the dataset\n",
    "oversample = SMOTETomek(random_state=42)\n",
    "X_train_rel, y_train_rel = oversample.fit_resample(X_train, y_train)\n",
    "# summarize the new class distribution\n",
    "counter = Counter(y_train_rel)\n",
    "print(counter)\n",
    "\n",
    "fit_and_print(best_grid, X_train_rel, y_train_rel)\n",
    "\n",
    "calculate_pred_and_inf_time(best_grid, X_test)"
   ]
  },
  {
   "cell_type": "markdown",
   "metadata": {},
   "source": [
    "### SMOTE and ENN"
   ]
  },
  {
   "cell_type": "code",
   "execution_count": 24,
   "metadata": {},
   "outputs": [
    {
     "name": "stdout",
     "output_type": "stream",
     "text": [
      "Counter({0: 114988, 1: 15577})\n",
      "Counter({1: 96382, 0: 81992})\n",
      "Confusion Matrix: \n",
      " [[14616  5605]\n",
      " [  608  2212]]\n",
      "Classification Report: \n",
      "               precision    recall  f1-score   support\n",
      "\n",
      "           0       0.96      0.72      0.82     20221\n",
      "           1       0.28      0.78      0.42      2820\n",
      "\n",
      "    accuracy                           0.73     23041\n",
      "   macro avg       0.62      0.75      0.62     23041\n",
      "weighted avg       0.88      0.73      0.77     23041\n",
      "\n",
      "Accuracy:  0.73\n",
      "Precision: 0.283\n",
      "Recall: 0.784\n",
      "f1:  0.416\n",
      "Inference Time: 35.741 miliseconds\n"
     ]
    }
   ],
   "source": [
    "# Oversample and plot imbalanced dataset with SMOTE and ENN\n",
    "\n",
    "# summarize class distribution\n",
    "counter = Counter(y_train)\n",
    "print(counter)\n",
    "# transform the dataset\n",
    "oversample = SMOTEENN(random_state=42)\n",
    "X_train_rel, y_train_rel = oversample.fit_resample(X_train, y_train)\n",
    "# summarize the new class distribution\n",
    "counter = Counter(y_train_rel)\n",
    "print(counter)\n",
    "\n",
    "fit_and_print(best_grid, X_train_rel, y_train_rel)\n",
    "\n",
    "calculate_pred_and_inf_time(best_grid, X_test)"
   ]
  }
 ],
 "metadata": {
  "kernelspec": {
   "display_name": "Python [conda env:work-asa]",
   "language": "python",
   "name": "conda-env-work-asa-py"
  },
  "language_info": {
   "codemirror_mode": {
    "name": "ipython",
    "version": 3
   },
   "file_extension": ".py",
   "mimetype": "text/x-python",
   "name": "python",
   "nbconvert_exporter": "python",
   "pygments_lexer": "ipython3",
   "version": "3.9.6"
  }
 },
 "nbformat": 4,
 "nbformat_minor": 4
}
